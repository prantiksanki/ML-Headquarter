{
 "cells": [
  {
   "cell_type": "code",
   "execution_count": 31,
   "id": "08e1bcb2-dae7-480d-a070-a6239fd74a21",
   "metadata": {},
   "outputs": [],
   "source": [
    "import numpy as np\n",
    "import pandas as pd\n",
    "import matplotlib.pyplot as plt"
   ]
  },
  {
   "cell_type": "code",
   "execution_count": 40,
   "id": "ebbbaa1d-da92-4d6d-9d4b-254a90bf2c1e",
   "metadata": {},
   "outputs": [],
   "source": [
    "def adagrad( gradient_func , beta_init , learning_rate = 0.1 ,epsilon = 1e-8 , max_iter = 100):\n",
    "    beta = beta_init \n",
    "    g_accum = np.zeros_like(beta) \n",
    "    history = [beta.copy()]\n",
    "    for t in range(max_iter):\n",
    "        gradient = gradient_func(beta) \n",
    "        g_accum += gradient ** 2 \n",
    "        beta -= (learning_rate / (np.sqrt(g_accum) + epsilon)) * gradient \n",
    "        history.append(beta.copy()) \n",
    "        print(beta)\n",
    "        \n",
    "        \n"
   ]
  },
  {
   "cell_type": "code",
   "execution_count": 41,
   "id": "a8a63abb-23da-4778-a03f-976c0a8e6605",
   "metadata": {},
   "outputs": [],
   "source": [
    "def objective_gradient(beta):\n",
    "    return 2*(beta-3)\n",
    "     "
   ]
  },
  {
   "cell_type": "code",
   "execution_count": 42,
   "id": "d61e8b02-a4c6-446f-982e-1fa324168d5c",
   "metadata": {},
   "outputs": [],
   "source": [
    "beta_init = np.array([0.0])"
   ]
  },
  {
   "cell_type": "code",
   "execution_count": 43,
   "id": "04d4048c-514f-477a-93ee-928ac5f90911",
   "metadata": {},
   "outputs": [
    {
     "name": "stdout",
     "output_type": "stream",
     "text": [
      "[0.01666667]\n",
      "[0.01181789]\n",
      "[0.00965303]\n",
      "[0.00835989]\n",
      "[0.00747672]\n",
      "[0.00682459]\n",
      "[0.00631769]\n",
      "[0.00590907]\n",
      "[0.00557062]\n",
      "[0.0052843]\n",
      "[0.00503799]\n",
      "[0.00482316]\n",
      "[0.00463364]\n",
      "[0.00446481]\n",
      "[0.00431317]\n",
      "[0.00417599]\n",
      "[0.0040511]\n",
      "[0.00393678]\n",
      "[0.00383161]\n",
      "[0.00373444]\n",
      "[0.0036443]\n",
      "[0.00356038]\n",
      "[0.003482]\n",
      "[0.00340858]\n",
      "[0.00333961]\n",
      "[0.00327466]\n",
      "[0.00321335]\n",
      "[0.00315537]\n",
      "[0.00310041]\n",
      "[0.00304822]\n",
      "[0.00299858]\n",
      "[0.00295129]\n",
      "[0.00290617]\n",
      "[0.00286305]\n",
      "[0.0028218]\n",
      "[0.00278228]\n",
      "[0.00274437]\n",
      "[0.00270797]\n",
      "[0.00267298]\n",
      "[0.00263931]\n",
      "[0.00260688]\n",
      "[0.00257562]\n",
      "[0.00254546]\n",
      "[0.00251633]\n",
      "[0.00248818]\n",
      "[0.00246095]\n",
      "[0.00243459]\n",
      "[0.00240907]\n",
      "[0.00238433]\n",
      "[0.00236034]\n",
      "[0.00233705]\n",
      "[0.00231444]\n",
      "[0.00229248]\n",
      "[0.00227113]\n",
      "[0.00225036]\n",
      "[0.00223016]\n",
      "[0.00221048]\n",
      "[0.00219132]\n",
      "[0.00217265]\n",
      "[0.00215445]\n",
      "[0.0021367]\n",
      "[0.00211937]\n",
      "[0.00210247]\n",
      "[0.00208596]\n",
      "[0.00206983]\n",
      "[0.00205408]\n",
      "[0.00203867]\n",
      "[0.00202361]\n",
      "[0.00200888]\n",
      "[0.00199446]\n",
      "[0.00198035]\n",
      "[0.00196653]\n",
      "[0.001953]\n",
      "[0.00193975]\n",
      "[0.00192676]\n",
      "[0.00191403]\n",
      "[0.00190155]\n",
      "[0.0018893]\n",
      "[0.0018773]\n",
      "[0.00186551]\n",
      "[0.00185395]\n",
      "[0.0018426]\n",
      "[0.00183146]\n",
      "[0.00182051]\n",
      "[0.00180976]\n",
      "[0.0017992]\n",
      "[0.00178882]\n",
      "[0.00177861]\n",
      "[0.00176858]\n",
      "[0.00175872]\n",
      "[0.00174902]\n",
      "[0.00173948]\n",
      "[0.00173009]\n",
      "[0.00172086]\n",
      "[0.00171177]\n",
      "[0.00170282]\n",
      "[0.00169401]\n",
      "[0.00168534]\n",
      "[0.0016768]\n",
      "[0.00166838]\n"
     ]
    },
    {
     "ename": "TypeError",
     "evalue": "cannot unpack non-iterable NoneType object",
     "output_type": "error",
     "traceback": [
      "\u001b[1;31m---------------------------------------------------------------------------\u001b[0m",
      "\u001b[1;31mTypeError\u001b[0m                                 Traceback (most recent call last)",
      "Cell \u001b[1;32mIn[43], line 1\u001b[0m\n\u001b[1;32m----> 1\u001b[0m optimized_beta, beta_history \u001b[38;5;241m=\u001b[39m adagrad(\n\u001b[0;32m      2\u001b[0m     gradient_func \u001b[38;5;241m=\u001b[39m objective_gradient,\n\u001b[0;32m      3\u001b[0m     beta_init \u001b[38;5;241m=\u001b[39m beta_init, \n\u001b[0;32m      4\u001b[0m     learning_rate \u001b[38;5;241m=\u001b[39m \u001b[38;5;241m0.1\u001b[39m,\n\u001b[0;32m      5\u001b[0m     epsilon \u001b[38;5;241m=\u001b[39m \u001b[38;5;241m1e-8\u001b[39m,\n\u001b[0;32m      6\u001b[0m     max_iter \u001b[38;5;241m=\u001b[39m \u001b[38;5;241m100\u001b[39m\n\u001b[0;32m      7\u001b[0m )\n",
      "\u001b[1;31mTypeError\u001b[0m: cannot unpack non-iterable NoneType object"
     ]
    }
   ],
   "source": [
    "optimized_beta, beta_history = adagrad(\n",
    "    gradient_func = objective_gradient,\n",
    "    beta_init = beta_init, \n",
    "    learning_rate = 0.1,\n",
    "    epsilon = 1e-8,\n",
    "    max_iter = 100\n",
    ")"
   ]
  },
  {
   "cell_type": "code",
   "execution_count": 27,
   "id": "1f01e165-9843-4f21-b050-a9273e4f0076",
   "metadata": {},
   "outputs": [
    {
     "name": "stdout",
     "output_type": "stream",
     "text": [
      "[0.1]\n"
     ]
    }
   ],
   "source": [
    "print(optimized_beta)"
   ]
  },
  {
   "cell_type": "code",
   "execution_count": null,
   "id": "6af2497c-5d1d-4ca3-b419-2a3b22bebf28",
   "metadata": {},
   "outputs": [],
   "source": []
  }
 ],
 "metadata": {
  "kernelspec": {
   "display_name": "Python 3 (ipykernel)",
   "language": "python",
   "name": "python3"
  },
  "language_info": {
   "codemirror_mode": {
    "name": "ipython",
    "version": 3
   },
   "file_extension": ".py",
   "mimetype": "text/x-python",
   "name": "python",
   "nbconvert_exporter": "python",
   "pygments_lexer": "ipython3",
   "version": "3.13.1"
  }
 },
 "nbformat": 4,
 "nbformat_minor": 5
}
