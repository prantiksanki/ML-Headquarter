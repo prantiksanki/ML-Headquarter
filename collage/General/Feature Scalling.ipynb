{
 "cells": [
  {
   "cell_type": "code",
   "execution_count": 2,
   "id": "2d529c7f-517b-45cc-afb3-b423ebb6dddc",
   "metadata": {},
   "outputs": [],
   "source": [
    "import numpy as np\n",
    "import pandas as pd\n",
    "from sklearn.preprocessing import MinMaxScaler , StandardScaler, RobustScaler , MaxAbsScaler"
   ]
  },
  {
   "cell_type": "code",
   "execution_count": 3,
   "id": "55970837-f2df-4b66-847e-81013808e073",
   "metadata": {},
   "outputs": [],
   "source": [
    "# Sample Data Gene r a ti on\n",
    "np. random .seed( 42 )\n",
    "data = np . random . randint( 0 , 100 , size =(100 , 4 ) )\n",
    "df = pd . DataFrame ( data , columns=[ 'Feature1' ,  'Feature2' , 'Feature3','Feature4' ] )"
   ]
  },
  {
   "cell_type": "code",
   "execution_count": 19,
   "id": "481a4f32-d89e-4dd0-b078-2c96c6e326a2",
   "metadata": {},
   "outputs": [],
   "source": [
    "min_max_scaler = MinMaxScaler ()\n",
    "df_min_max_scaled = pd.DataFrame ( min_max_scaler . fit_transform( df ) , columns=df.columns )"
   ]
  },
  {
   "cell_type": "code",
   "execution_count": 20,
   "id": "075efc08-8da9-49ee-a947-e840d03e40f4",
   "metadata": {},
   "outputs": [],
   "source": [
    "#standarization \n",
    "standered_scaler = StandardScaler()\n",
    "df_standered_scaled = pd.DataFrame(standered_scaler.fit_transform(df), columns = df.columns) "
   ]
  },
  {
   "cell_type": "code",
   "execution_count": 21,
   "id": "683bb202-8d3b-4378-a07d-30d9d1929d18",
   "metadata": {},
   "outputs": [],
   "source": [
    "#Robust Scalling\n",
    "robust_scaller = RobustScaler()\n",
    "df_robust_scaled = pd.DataFrame ( robust_scaller.fit_transform( df ) , columns=df.columns )"
   ]
  },
  {
   "cell_type": "code",
   "execution_count": 22,
   "id": "5a245f85-b1cc-4a11-9440-09c7fc421119",
   "metadata": {},
   "outputs": [],
   "source": [
    "# Max Abs S c ali n g\n",
    "max_abs_scaler = MaxAbsScaler()\n",
    "df_max_abs_scaled = pd . DataFrame ( max_abs_scaler.fit_transform ( df ) , columns=df.columns )"
   ]
  },
  {
   "cell_type": "code",
   "execution_count": 23,
   "id": "e81a7c01-7d74-4591-8538-07f317a1f86f",
   "metadata": {},
   "outputs": [
    {
     "name": "stdout",
     "output_type": "stream",
     "text": [
      "Min−Max ScaledData : \n",
      "    Feature1  Feature2  Feature3  Feature4\n",
      "0  0.520408  0.928571  0.142857  0.714286\n",
      "1  0.612245  0.193878  0.836735  0.867347\n",
      "2  0.755102  0.744898  0.887755  1.000000\n",
      "3  0.234694  0.010204  0.214286  0.520408\n",
      "4  0.010204  0.877551  0.295918  0.367347\n",
      "\n",
      "Standard Scaled Data : \n",
      "    Feature1  Feature2  Feature3  Feature4\n",
      "0  0.090471  1.393878 -1.083404  0.611371\n",
      "1  0.386558 -1.039663  1.295398  1.122835\n",
      "2  0.847137  0.785493  1.470309  1.566104\n",
      "3 -0.830688 -1.648048 -0.838528 -0.036484\n",
      "4 -1.554455  1.224882 -0.558669 -0.547949\n",
      "\n",
      "Robust S c al e d Data : \n",
      "    Feature1  Feature2  Feature3  Feature4\n",
      "0  0.009346  0.848485 -0.719512  0.318841\n",
      "1  0.177570 -0.606061  0.939024  0.608696\n",
      "2  0.439252  0.484848  1.060976  0.859903\n",
      "3 -0.514019 -0.969697 -0.548780 -0.048309\n",
      "4 -0.925234  0.747475 -0.353659 -0.338164\n",
      "\n",
      "Max Abs Scaled Data : \n",
      "    Feature1  Feature2  Feature3  Feature4\n",
      "0  0.520408  0.929293  0.142857  0.717172\n",
      "1  0.612245  0.202020  0.836735  0.868687\n",
      "2  0.755102  0.747475  0.887755  1.000000\n",
      "3  0.234694  0.020202  0.214286  0.525253\n",
      "4  0.010204  0.878788  0.295918  0.373737\n"
     ]
    }
   ],
   "source": [
    "# Di s pl a y the s c a l e d data\n",
    "print( \"Min−Max ScaledData : \\n\" , df_min_max_scaled.head () )\n",
    "print(\"\\nStandard Scaled Data : \\n\",df_standered_scaled. head ( ) )\n",
    "print( \"\\nRobust S c al e d Data : \\n\" , df_robust_scaled. head ( ) )\n",
    "print( \"\\nMax Abs Scaled Data : \\n\" , df_max_abs_scaled.head ( ) )"
   ]
  },
  {
   "cell_type": "code",
   "execution_count": null,
   "id": "b211ca2b-d60f-4fbd-a2bf-36fb4bca903e",
   "metadata": {},
   "outputs": [],
   "source": []
  },
  {
   "cell_type": "code",
   "execution_count": null,
   "id": "f1f44895-6ea9-4883-99af-42e20da539c1",
   "metadata": {},
   "outputs": [],
   "source": []
  }
 ],
 "metadata": {
  "kernelspec": {
   "display_name": "Python 3 (ipykernel)",
   "language": "python",
   "name": "python3"
  },
  "language_info": {
   "codemirror_mode": {
    "name": "ipython",
    "version": 3
   },
   "file_extension": ".py",
   "mimetype": "text/x-python",
   "name": "python",
   "nbconvert_exporter": "python",
   "pygments_lexer": "ipython3",
   "version": "3.13.1"
  }
 },
 "nbformat": 4,
 "nbformat_minor": 5
}
