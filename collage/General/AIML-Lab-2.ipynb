{
 "cells": [
  {
   "cell_type": "code",
   "execution_count": 2,
   "id": "3939395b-28e4-455b-9b79-0bba8cc3d7f9",
   "metadata": {},
   "outputs": [],
   "source": [
    "import numpy as np \n",
    "import pandas as pd \n",
    "import matplotlib.pyplot as plt"
   ]
  },
  {
   "cell_type": "code",
   "execution_count": 4,
   "id": "8b21b157-f9d7-4b31-ae58-afde646deec6",
   "metadata": {},
   "outputs": [],
   "source": [
    "df = pd.read_csv(\"student_data.csv\")"
   ]
  },
  {
   "cell_type": "code",
   "execution_count": 5,
   "id": "3b76e407-30f3-482c-bbce-93bb424cb60a",
   "metadata": {},
   "outputs": [
    {
     "data": {
      "text/html": [
       "<div>\n",
       "<style scoped>\n",
       "    .dataframe tbody tr th:only-of-type {\n",
       "        vertical-align: middle;\n",
       "    }\n",
       "\n",
       "    .dataframe tbody tr th {\n",
       "        vertical-align: top;\n",
       "    }\n",
       "\n",
       "    .dataframe thead th {\n",
       "        text-align: right;\n",
       "    }\n",
       "</style>\n",
       "<table border=\"1\" class=\"dataframe\">\n",
       "  <thead>\n",
       "    <tr style=\"text-align: right;\">\n",
       "      <th></th>\n",
       "      <th>Student Age</th>\n",
       "      <th>Student Attendance</th>\n",
       "      <th>Student Test Marks</th>\n",
       "      <th>Student Percentage in Final Exam</th>\n",
       "    </tr>\n",
       "  </thead>\n",
       "  <tbody>\n",
       "    <tr>\n",
       "      <th>0</th>\n",
       "      <td>24</td>\n",
       "      <td>57</td>\n",
       "      <td>61</td>\n",
       "      <td>52.82</td>\n",
       "    </tr>\n",
       "    <tr>\n",
       "      <th>1</th>\n",
       "      <td>21</td>\n",
       "      <td>63</td>\n",
       "      <td>74</td>\n",
       "      <td>58.53</td>\n",
       "    </tr>\n",
       "    <tr>\n",
       "      <th>2</th>\n",
       "      <td>22</td>\n",
       "      <td>72</td>\n",
       "      <td>91</td>\n",
       "      <td>73.92</td>\n",
       "    </tr>\n",
       "    <tr>\n",
       "      <th>3</th>\n",
       "      <td>24</td>\n",
       "      <td>89</td>\n",
       "      <td>88</td>\n",
       "      <td>83.40</td>\n",
       "    </tr>\n",
       "    <tr>\n",
       "      <th>4</th>\n",
       "      <td>20</td>\n",
       "      <td>70</td>\n",
       "      <td>61</td>\n",
       "      <td>49.88</td>\n",
       "    </tr>\n",
       "    <tr>\n",
       "      <th>...</th>\n",
       "      <td>...</td>\n",
       "      <td>...</td>\n",
       "      <td>...</td>\n",
       "      <td>...</td>\n",
       "    </tr>\n",
       "    <tr>\n",
       "      <th>95</th>\n",
       "      <td>23</td>\n",
       "      <td>77</td>\n",
       "      <td>30</td>\n",
       "      <td>40.31</td>\n",
       "    </tr>\n",
       "    <tr>\n",
       "      <th>96</th>\n",
       "      <td>21</td>\n",
       "      <td>93</td>\n",
       "      <td>93</td>\n",
       "      <td>79.64</td>\n",
       "    </tr>\n",
       "    <tr>\n",
       "      <th>97</th>\n",
       "      <td>23</td>\n",
       "      <td>93</td>\n",
       "      <td>41</td>\n",
       "      <td>45.26</td>\n",
       "    </tr>\n",
       "    <tr>\n",
       "      <th>98</th>\n",
       "      <td>24</td>\n",
       "      <td>69</td>\n",
       "      <td>98</td>\n",
       "      <td>67.48</td>\n",
       "    </tr>\n",
       "    <tr>\n",
       "      <th>99</th>\n",
       "      <td>24</td>\n",
       "      <td>79</td>\n",
       "      <td>6</td>\n",
       "      <td>18.35</td>\n",
       "    </tr>\n",
       "  </tbody>\n",
       "</table>\n",
       "<p>100 rows × 4 columns</p>\n",
       "</div>"
      ],
      "text/plain": [
       "    Student Age  Student Attendance  Student Test Marks  \\\n",
       "0            24                  57                  61   \n",
       "1            21                  63                  74   \n",
       "2            22                  72                  91   \n",
       "3            24                  89                  88   \n",
       "4            20                  70                  61   \n",
       "..          ...                 ...                 ...   \n",
       "95           23                  77                  30   \n",
       "96           21                  93                  93   \n",
       "97           23                  93                  41   \n",
       "98           24                  69                  98   \n",
       "99           24                  79                   6   \n",
       "\n",
       "    Student Percentage in Final Exam  \n",
       "0                              52.82  \n",
       "1                              58.53  \n",
       "2                              73.92  \n",
       "3                              83.40  \n",
       "4                              49.88  \n",
       "..                               ...  \n",
       "95                             40.31  \n",
       "96                             79.64  \n",
       "97                             45.26  \n",
       "98                             67.48  \n",
       "99                             18.35  \n",
       "\n",
       "[100 rows x 4 columns]"
      ]
     },
     "execution_count": 5,
     "metadata": {},
     "output_type": "execute_result"
    }
   ],
   "source": [
    "df"
   ]
  },
  {
   "cell_type": "code",
   "execution_count": 6,
   "id": "747d94b5-935d-453a-b16b-1da197d7ae85",
   "metadata": {},
   "outputs": [
    {
     "data": {
      "text/html": [
       "<div>\n",
       "<style scoped>\n",
       "    .dataframe tbody tr th:only-of-type {\n",
       "        vertical-align: middle;\n",
       "    }\n",
       "\n",
       "    .dataframe tbody tr th {\n",
       "        vertical-align: top;\n",
       "    }\n",
       "\n",
       "    .dataframe thead th {\n",
       "        text-align: right;\n",
       "    }\n",
       "</style>\n",
       "<table border=\"1\" class=\"dataframe\">\n",
       "  <thead>\n",
       "    <tr style=\"text-align: right;\">\n",
       "      <th></th>\n",
       "      <th>Student Age</th>\n",
       "      <th>Student Attendance</th>\n",
       "      <th>Student Test Marks</th>\n",
       "      <th>Student Percentage in Final Exam</th>\n",
       "    </tr>\n",
       "  </thead>\n",
       "  <tbody>\n",
       "    <tr>\n",
       "      <th>0</th>\n",
       "      <td>24</td>\n",
       "      <td>57</td>\n",
       "      <td>61</td>\n",
       "      <td>52.82</td>\n",
       "    </tr>\n",
       "    <tr>\n",
       "      <th>1</th>\n",
       "      <td>21</td>\n",
       "      <td>63</td>\n",
       "      <td>74</td>\n",
       "      <td>58.53</td>\n",
       "    </tr>\n",
       "    <tr>\n",
       "      <th>2</th>\n",
       "      <td>22</td>\n",
       "      <td>72</td>\n",
       "      <td>91</td>\n",
       "      <td>73.92</td>\n",
       "    </tr>\n",
       "    <tr>\n",
       "      <th>3</th>\n",
       "      <td>24</td>\n",
       "      <td>89</td>\n",
       "      <td>88</td>\n",
       "      <td>83.40</td>\n",
       "    </tr>\n",
       "    <tr>\n",
       "      <th>4</th>\n",
       "      <td>20</td>\n",
       "      <td>70</td>\n",
       "      <td>61</td>\n",
       "      <td>49.88</td>\n",
       "    </tr>\n",
       "  </tbody>\n",
       "</table>\n",
       "</div>"
      ],
      "text/plain": [
       "   Student Age  Student Attendance  Student Test Marks  \\\n",
       "0           24                  57                  61   \n",
       "1           21                  63                  74   \n",
       "2           22                  72                  91   \n",
       "3           24                  89                  88   \n",
       "4           20                  70                  61   \n",
       "\n",
       "   Student Percentage in Final Exam  \n",
       "0                             52.82  \n",
       "1                             58.53  \n",
       "2                             73.92  \n",
       "3                             83.40  \n",
       "4                             49.88  "
      ]
     },
     "execution_count": 6,
     "metadata": {},
     "output_type": "execute_result"
    }
   ],
   "source": [
    "df.head(5)"
   ]
  },
  {
   "cell_type": "code",
   "execution_count": 8,
   "id": "823afb9a-f965-4146-a171-22bafd070223",
   "metadata": {},
   "outputs": [],
   "source": [
    "mean1 = np.mean(df[\"Student Age\"])"
   ]
  },
  {
   "cell_type": "code",
   "execution_count": 9,
   "id": "12b478f9-a785-4722-ba5f-ebf5288345ee",
   "metadata": {},
   "outputs": [],
   "source": [
    "mean2 = np.mean(df[\"Student Attendance\"])"
   ]
  },
  {
   "cell_type": "code",
   "execution_count": 10,
   "id": "d2b60935-d479-4a76-aef8-4076c919dbfd",
   "metadata": {},
   "outputs": [],
   "source": [
    "mean3 = np.mean(df[\"Student Test Marks\"])"
   ]
  },
  {
   "cell_type": "code",
   "execution_count": 11,
   "id": "744820fc-8543-42da-ae0a-b55e32e27284",
   "metadata": {},
   "outputs": [],
   "source": [
    "mean4 = np.mean(df[\"Student Percentage in Final Exam\"])"
   ]
  },
  {
   "cell_type": "code",
   "execution_count": 12,
   "id": "94526124-7863-4caa-94e6-896961a09be4",
   "metadata": {},
   "outputs": [],
   "source": [
    "std1 = np.std(df[\"Student Age\"])\n",
    "std2 = np.std(df[\"Student Attendance\"])\n",
    "std3 = np.std(df[\"Student Test Marks\"])\n",
    "std4 = np.std(df[\"Student Percentage in Final Exam\"])"
   ]
  },
  {
   "cell_type": "code",
   "execution_count": 13,
   "id": "7feef3dd-f19f-4c85-a0e2-560e172ed4ae",
   "metadata": {},
   "outputs": [],
   "source": [
    "# Perform Z-score normalization\n",
    "# z_scores = (data - mean) / std_dev\n",
    "\n",
    "z_score1  = (df[\"Student Age\"] - mean1) / std1 ; \n",
    "z_score2  = (df[\"Student Attendance\"] - mean2) / std2 ; \n",
    "z_score3  = (df[\"Student Test Marks\"] - mean3) / std3 ; \n",
    "z_score4  = (df[\"Student Percentage in Final Exam\"] - mean4) / std4 ; \n"
   ]
  },
  {
   "cell_type": "code",
   "execution_count": 27,
   "id": "55173a67-b0d3-4c21-a567-63fe1fd91355",
   "metadata": {},
   "outputs": [
    {
     "data": {
      "text/plain": [
       "pandas.core.series.Series"
      ]
     },
     "execution_count": 27,
     "metadata": {},
     "output_type": "execute_result"
    }
   ],
   "source": [
    "type(z_score1)"
   ]
  },
  {
   "cell_type": "code",
   "execution_count": 28,
   "id": "111c5525-9960-4457-be29-8af0f4c03d87",
   "metadata": {},
   "outputs": [
    {
     "ename": "TypeError",
     "evalue": "list indices must be integers or slices, not str",
     "output_type": "error",
     "traceback": [
      "\u001b[1;31m---------------------------------------------------------------------------\u001b[0m",
      "\u001b[1;31mTypeError\u001b[0m                                 Traceback (most recent call last)",
      "Cell \u001b[1;32mIn[28], line 1\u001b[0m\n\u001b[1;32m----> 1\u001b[0m \u001b[43mdf\u001b[49m\u001b[43m[\u001b[49m\u001b[38;5;124;43m\"\u001b[39;49m\u001b[38;5;124;43mStudent Age\u001b[39;49m\u001b[38;5;124;43m\"\u001b[39;49m\u001b[43m]\u001b[49m \u001b[38;5;241m=\u001b[39mpd\u001b[38;5;241m.\u001b[39mSeries(z_score1)\n",
      "\u001b[1;31mTypeError\u001b[0m: list indices must be integers or slices, not str"
     ]
    }
   ],
   "source": [
    "df[\"Student Age\"] =pd.Series(z_score1)"
   ]
  },
  {
   "cell_type": "code",
   "execution_count": 29,
   "id": "69cde41d-3d71-4650-8222-ed0450bf621d",
   "metadata": {},
   "outputs": [
    {
     "data": {
      "text/plain": [
       "[0     1.465198\n",
       " 1    -0.110284\n",
       " 2     0.414877\n",
       " 3     1.465198\n",
       " 4    -0.635444\n",
       "         ...   \n",
       " 95    0.940037\n",
       " 96   -0.110284\n",
       " 97    0.940037\n",
       " 98    1.465198\n",
       " 99    1.465198\n",
       " Name: Student Age, Length: 100, dtype: float64,\n",
       " 0    -1.269380\n",
       " 1    -0.839082\n",
       " 2    -0.193634\n",
       " 3     1.025544\n",
       " 4    -0.337067\n",
       "         ...   \n",
       " 95    0.164948\n",
       " 96    1.312410\n",
       " 97    1.312410\n",
       " 98   -0.408783\n",
       " 99    0.308380\n",
       " Name: Student Attendance, Length: 100, dtype: float64,\n",
       " 0     0.313947\n",
       " 1     0.739083\n",
       " 2     1.295031\n",
       " 3     1.196922\n",
       " 4     0.313947\n",
       "         ...   \n",
       " 95   -0.699840\n",
       " 96    1.360436\n",
       " 97   -0.340109\n",
       " 98    1.523950\n",
       " 99   -1.484707\n",
       " Name: Student Test Marks, Length: 100, dtype: float64,\n",
       " 0     0.208048\n",
       " 1     0.541621\n",
       " 2     1.440691\n",
       " 3     1.994505\n",
       " 4     0.036296\n",
       "         ...   \n",
       " 95   -0.522775\n",
       " 96    1.774849\n",
       " 97   -0.233601\n",
       " 98    1.064472\n",
       " 99   -1.805659\n",
       " Name: Student Percentage in Final Exam, Length: 100, dtype: float64]"
      ]
     },
     "execution_count": 29,
     "metadata": {},
     "output_type": "execute_result"
    }
   ],
   "source": [
    "df"
   ]
  },
  {
   "cell_type": "code",
   "execution_count": null,
   "id": "b1ba8d41-1d03-4e64-b79f-d9ac8684c782",
   "metadata": {},
   "outputs": [],
   "source": []
  }
 ],
 "metadata": {
  "kernelspec": {
   "display_name": "Python 3 (ipykernel)",
   "language": "python",
   "name": "python3"
  },
  "language_info": {
   "codemirror_mode": {
    "name": "ipython",
    "version": 3
   },
   "file_extension": ".py",
   "mimetype": "text/x-python",
   "name": "python",
   "nbconvert_exporter": "python",
   "pygments_lexer": "ipython3",
   "version": "3.13.1"
  }
 },
 "nbformat": 4,
 "nbformat_minor": 5
}
