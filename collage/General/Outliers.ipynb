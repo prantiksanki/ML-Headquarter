{
 "cells": [
  {
   "cell_type": "code",
   "execution_count": 15,
   "id": "702fcf69-6f10-40ec-9b70-35aaa75728ba",
   "metadata": {},
   "outputs": [],
   "source": [
    "import numpy as np \n",
    "import pandas as pd \n",
    "import matplotlib . pyplot as plt # For plotting\n",
    "from scipy . stats import zscore # For calculating Z- Score"
   ]
  },
  {
   "cell_type": "code",
   "execution_count": 16,
   "id": "036440ad-1b2f-467e-b7ce-d74559b0a617",
   "metadata": {},
   "outputs": [],
   "source": [
    "np . random . seed (42)"
   ]
  },
  {
   "cell_type": "code",
   "execution_count": 17,
   "id": "acdcc031-368a-4f49-a01c-53d6c8dedd3d",
   "metadata": {},
   "outputs": [],
   "source": [
    "# Generate 1000 samples for true values centered around 50 with a standard deviation of 10\n",
    "true_values = np . random . normal ( loc =50 , scale =10 , size =1000)\n",
    "# Add noise to generate predicted values based on true values\n",
    "predicted_values = true_values + np . random . normal ( loc =0 ,\n",
    "scale =5 , size =1000)\n"
   ]
  },
  {
   "cell_type": "code",
   "execution_count": 18,
   "id": "875b1628-266c-487e-8f95-d853d8ca0ffd",
   "metadata": {},
   "outputs": [],
   "source": [
    "true_values [::50] += np . random . normal ( loc =20 , scale =10 , size\n",
    "=20)\n",
    "predicted_values [::50] += np . random . normal ( loc =20 , scale =10 ,\n",
    "size =20)\n",
    "# Combine the data into a DataFrame\n",
    "data = pd . DataFrame ({\n",
    "\"True\": true_values ,\n",
    "\"Predicted\": predicted_values\n",
    "})"
   ]
  },
  {
   "cell_type": "code",
   "execution_count": 20,
   "id": "08b771da-91af-4e32-b0cc-b5707fb8b755",
   "metadata": {},
   "outputs": [
    {
     "ename": "IndentationError",
     "evalue": "expected an indented block after function definition on line 1 (1211604507.py, line 2)",
     "output_type": "error",
     "traceback": [
      "\u001b[1;36m  Cell \u001b[1;32mIn[20], line 2\u001b[1;36m\u001b[0m\n\u001b[1;33m    plt.figure ( figsize =(10 , 6) ) # Set figure size\u001b[0m\n\u001b[1;37m    ^\u001b[0m\n\u001b[1;31mIndentationError\u001b[0m\u001b[1;31m:\u001b[0m expected an indented block after function definition on line 1\n"
     ]
    }
   ],
   "source": [
    "def scatter_plot_with_outliers ( data ) :\n",
    "plt.figure ( figsize =(10 , 6) ) # Set figure size\n",
    "# Scatter plot for all data points\n",
    "plt . scatter ( data [\"True\"] , data [\"Predicted\"] , alpha =0.7 , label = \"Data ␣ Points \")\n",
    "# Calculate Z- Scores for outlier detection\n",
    "z_scores = zscore ( data [[ \"True\", \"Predicted\"]])\n",
    "outliers = np .abs( z_scores ) > 3 # Identify outliers with\n",
    "Z- Score > 3\n",
    "# Highlight outliers in red\n",
    "plt . scatter ( data [\"True\"][ outliers .any( axis =1) ] ,\n",
    "data [\"Predicted\"][ outliers .any ( axis =1) ] ,\n",
    "color =\"red\", label =\"Outliers\")\n",
    "\n",
    "# Add labels , legend , and grid\n",
    "plt . title (\" Scatter ␣ Plot ␣ with ␣ Outliers ␣ Marked \")\n",
    "plt . xlabel (\" True ␣ Values \")\n",
    "plt . ylabel (\" Predicted ␣ Values \")\n",
    "plt . legend ()\n",
    "plt . grid ()\n",
    "plt . show ()"
   ]
  },
  {
   "cell_type": "code",
   "execution_count": 21,
   "id": "2559780f-9018-494b-9a54-5bdbb94906db",
   "metadata": {},
   "outputs": [
    {
     "ename": "NameError",
     "evalue": "name 'scatter_plot_with_outliers' is not defined",
     "output_type": "error",
     "traceback": [
      "\u001b[1;31m---------------------------------------------------------------------------\u001b[0m",
      "\u001b[1;31mNameError\u001b[0m                                 Traceback (most recent call last)",
      "Cell \u001b[1;32mIn[21], line 1\u001b[0m\n\u001b[1;32m----> 1\u001b[0m \u001b[43mscatter_plot_with_outliers\u001b[49m ( data )\n",
      "\u001b[1;31mNameError\u001b[0m: name 'scatter_plot_with_outliers' is not defined"
     ]
    }
   ],
   "source": [
    "scatter_plot_with_outliers ( data )"
   ]
  },
  {
   "cell_type": "code",
   "execution_count": null,
   "id": "a0ebb0fb-325a-4538-8c40-d9a9eea9a29a",
   "metadata": {},
   "outputs": [],
   "source": []
  }
 ],
 "metadata": {
  "kernelspec": {
   "display_name": "Python 3 (ipykernel)",
   "language": "python",
   "name": "python3"
  },
  "language_info": {
   "codemirror_mode": {
    "name": "ipython",
    "version": 3
   },
   "file_extension": ".py",
   "mimetype": "text/x-python",
   "name": "python",
   "nbconvert_exporter": "python",
   "pygments_lexer": "ipython3",
   "version": "3.13.1"
  }
 },
 "nbformat": 4,
 "nbformat_minor": 5
}
