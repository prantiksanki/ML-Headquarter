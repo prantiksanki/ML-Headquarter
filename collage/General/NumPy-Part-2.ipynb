{
 "cells": [
  {
   "cell_type": "markdown",
   "id": "c67ccf18-c448-4199-a0c6-31e319f09b53",
   "metadata": {},
   "source": [
    "# "
   ]
  },
  {
   "cell_type": "code",
   "execution_count": 1,
   "id": "d0f99306-2323-4d70-b544-a6d00b235bc9",
   "metadata": {},
   "outputs": [],
   "source": [
    "import numpy as np"
   ]
  },
  {
   "cell_type": "code",
   "execution_count": 2,
   "id": "7001ea8e-9631-4e68-8ca7-ce79cff7c05f",
   "metadata": {},
   "outputs": [],
   "source": [
    "arr = np.arange(50)"
   ]
  },
  {
   "cell_type": "code",
   "execution_count": 3,
   "id": "3c9e338e-9abc-46c4-8ce7-a6e40f1d02d0",
   "metadata": {},
   "outputs": [
    {
     "data": {
      "text/plain": [
       "array([ 0,  1,  2,  3,  4,  5,  6,  7,  8,  9, 10, 11, 12, 13, 14, 15, 16,\n",
       "       17, 18, 19, 20, 21, 22, 23, 24, 25, 26, 27, 28, 29, 30, 31, 32, 33,\n",
       "       34, 35, 36, 37, 38, 39, 40, 41, 42, 43, 44, 45, 46, 47, 48, 49])"
      ]
     },
     "execution_count": 3,
     "metadata": {},
     "output_type": "execute_result"
    }
   ],
   "source": [
    "arr"
   ]
  },
  {
   "cell_type": "code",
   "execution_count": 4,
   "id": "745239fc-006c-4f4b-81b7-2736576dc9ab",
   "metadata": {},
   "outputs": [
    {
     "data": {
      "text/plain": [
       "array([[ 0,  1,  2,  3,  4,  5,  6,  7,  8,  9, 10, 11, 12, 13, 14, 15,\n",
       "        16, 17, 18, 19, 20, 21, 22, 23, 24],\n",
       "       [25, 26, 27, 28, 29, 30, 31, 32, 33, 34, 35, 36, 37, 38, 39, 40,\n",
       "        41, 42, 43, 44, 45, 46, 47, 48, 49]])"
      ]
     },
     "execution_count": 4,
     "metadata": {},
     "output_type": "execute_result"
    }
   ],
   "source": [
    "arr.reshape(2,25)"
   ]
  },
  {
   "cell_type": "code",
   "execution_count": 5,
   "id": "303c0545-c712-49e6-8ff0-c5904d72ffbd",
   "metadata": {},
   "outputs": [
    {
     "data": {
      "text/plain": [
       "array([ 0,  1,  2,  3,  4,  5,  6,  7,  8,  9, 10, 11, 12, 13, 14, 15, 16,\n",
       "       17, 18, 19, 20, 21, 22, 23, 24, 25, 26, 27, 28, 29, 30, 31, 32, 33,\n",
       "       34, 35, 36, 37, 38, 39, 40, 41, 42, 43, 44, 45, 46, 47, 48, 49])"
      ]
     },
     "execution_count": 5,
     "metadata": {},
     "output_type": "execute_result"
    }
   ],
   "source": [
    "arr.ravel()    # MAke 2D array into 1D"
   ]
  },
  {
   "cell_type": "code",
   "execution_count": 6,
   "id": "b067bef7-5108-41a8-a4e2-e0e31ed88c7b",
   "metadata": {},
   "outputs": [
    {
     "data": {
      "text/plain": [
       "array([ 0,  1,  2,  3,  4,  5,  6,  7,  8,  9, 10, 11, 12, 13, 14, 15, 16,\n",
       "       17, 18, 19, 20, 21, 22, 23, 24, 25, 26, 27, 28, 29, 30, 31, 32, 33,\n",
       "       34, 35, 36, 37, 38, 39, 40, 41, 42, 43, 44, 45, 46, 47, 48, 49])"
      ]
     },
     "execution_count": 6,
     "metadata": {},
     "output_type": "execute_result"
    }
   ],
   "source": [
    "arr"
   ]
  },
  {
   "cell_type": "code",
   "execution_count": 10,
   "id": "fbcbfe51-4d7b-4e30-82bd-d63991b3e065",
   "metadata": {},
   "outputs": [],
   "source": [
    "x = [[1,2,3] , [4,5,6] , [6,7,8]]"
   ]
  },
  {
   "cell_type": "code",
   "execution_count": 11,
   "id": "51cb962d-751e-4ae9-84d6-93d79314e583",
   "metadata": {},
   "outputs": [],
   "source": [
    "ar = np.array(x)"
   ]
  },
  {
   "cell_type": "code",
   "execution_count": 12,
   "id": "70f34d90-b46a-49ed-a689-6b3e70cb72d5",
   "metadata": {},
   "outputs": [
    {
     "data": {
      "text/plain": [
       "array([[1, 2, 3],\n",
       "       [4, 5, 6],\n",
       "       [6, 7, 8]])"
      ]
     },
     "execution_count": 12,
     "metadata": {},
     "output_type": "execute_result"
    }
   ],
   "source": [
    "ar"
   ]
  },
  {
   "cell_type": "raw",
   "id": "c7ebce29-ce41-451b-a764-9f26077fff44",
   "metadata": {},
   "source": [
    "print(ar)"
   ]
  },
  {
   "cell_type": "code",
   "execution_count": 13,
   "id": "be68fd17-c757-4929-960b-6401d8d7c950",
   "metadata": {},
   "outputs": [
    {
     "data": {
      "text/plain": [
       "array([11, 14, 17])"
      ]
     },
     "execution_count": 13,
     "metadata": {},
     "output_type": "execute_result"
    }
   ],
   "source": [
    "ar.sum(axis =0)"
   ]
  },
  {
   "cell_type": "code",
   "execution_count": 15,
   "id": "b6960af9-888b-46dc-aaaa-1d2a942f6828",
   "metadata": {},
   "outputs": [
    {
     "data": {
      "text/plain": [
       "array([ 6, 15, 21])"
      ]
     },
     "execution_count": 15,
     "metadata": {},
     "output_type": "execute_result"
    }
   ],
   "source": [
    "ar.sum(axis=1)"
   ]
  },
  {
   "cell_type": "code",
   "execution_count": 16,
   "id": "b024c343-5862-40ed-953a-d8e5ccd19a89",
   "metadata": {},
   "outputs": [
    {
     "data": {
      "text/plain": [
       "array([[1, 4, 6],\n",
       "       [2, 5, 7],\n",
       "       [3, 6, 8]])"
      ]
     },
     "execution_count": 16,
     "metadata": {},
     "output_type": "execute_result"
    }
   ],
   "source": [
    "ar.T   #Transpose finding"
   ]
  },
  {
   "cell_type": "code",
   "execution_count": 17,
   "id": "b95adef2-ec85-4c74-a806-7f0bce7257e3",
   "metadata": {},
   "outputs": [
    {
     "name": "stdout",
     "output_type": "stream",
     "text": [
      "1\n",
      "2\n",
      "3\n",
      "4\n",
      "5\n",
      "6\n",
      "6\n",
      "7\n",
      "8\n"
     ]
    }
   ],
   "source": [
    "for item in ar.flat:\n",
    "    print(item)"
   ]
  },
  {
   "cell_type": "code",
   "execution_count": 18,
   "id": "a47ebf36-9208-41d4-a0b7-1b0eb06c18e1",
   "metadata": {},
   "outputs": [
    {
     "data": {
      "text/plain": [
       "2"
      ]
     },
     "execution_count": 18,
     "metadata": {},
     "output_type": "execute_result"
    }
   ],
   "source": [
    "ar.ndim   # No of dimention finding"
   ]
  },
  {
   "cell_type": "code",
   "execution_count": 19,
   "id": "4eb29f35-87c6-4d6a-a2e0-b36fb03c8e2a",
   "metadata": {},
   "outputs": [
    {
     "data": {
      "text/plain": [
       "9"
      ]
     },
     "execution_count": 19,
     "metadata": {},
     "output_type": "execute_result"
    }
   ],
   "source": [
    "ar.size"
   ]
  },
  {
   "cell_type": "code",
   "execution_count": 20,
   "id": "77e375ab-d57a-4e78-b2c4-a05b3fea2da1",
   "metadata": {},
   "outputs": [
    {
     "data": {
      "text/plain": [
       "72"
      ]
     },
     "execution_count": 20,
     "metadata": {},
     "output_type": "execute_result"
    }
   ],
   "source": [
    "ar.nbytes   # Total bytes consumed by array"
   ]
  },
  {
   "cell_type": "code",
   "execution_count": 21,
   "id": "ff00e077-bb39-4682-b85b-d8bdaa5a4640",
   "metadata": {},
   "outputs": [],
   "source": [
    "one = np.array([1,2,4,6])"
   ]
  },
  {
   "cell_type": "code",
   "execution_count": 22,
   "id": "064c511d-52af-4ded-bcf5-91b0bbcbd93f",
   "metadata": {},
   "outputs": [
    {
     "data": {
      "text/plain": [
       "array([1, 2, 4, 6])"
      ]
     },
     "execution_count": 22,
     "metadata": {},
     "output_type": "execute_result"
    }
   ],
   "source": [
    "one"
   ]
  },
  {
   "cell_type": "code",
   "execution_count": 24,
   "id": "bf5066ef-74ce-43c7-9da1-f4591557fc5f",
   "metadata": {},
   "outputs": [
    {
     "data": {
      "text/plain": [
       "np.int64(3)"
      ]
     },
     "execution_count": 24,
     "metadata": {},
     "output_type": "execute_result"
    }
   ],
   "source": [
    "one.argmax()   # return index of maximum element"
   ]
  },
  {
   "cell_type": "code",
   "execution_count": 25,
   "id": "b28525b9-0414-49be-9b10-ed2c428e1372",
   "metadata": {},
   "outputs": [
    {
     "data": {
      "text/plain": [
       "np.int64(0)"
      ]
     },
     "execution_count": 25,
     "metadata": {},
     "output_type": "execute_result"
    }
   ],
   "source": [
    "one.argmin()   # return index of minimum element"
   ]
  },
  {
   "cell_type": "code",
   "execution_count": 26,
   "id": "674a6f9e-9341-4c1f-90bf-bc02c2ade828",
   "metadata": {},
   "outputs": [
    {
     "data": {
      "text/plain": [
       "array([0, 1, 2, 3])"
      ]
     },
     "execution_count": 26,
     "metadata": {},
     "output_type": "execute_result"
    }
   ],
   "source": [
    "one.argsort()    # sorted index order"
   ]
  },
  {
   "cell_type": "code",
   "execution_count": 27,
   "id": "bcf8ad3c-655d-43fd-a62d-eb721786e24c",
   "metadata": {},
   "outputs": [],
   "source": [
    "arra = [[1,2,3] , [4,5,6] , [6,7,8]]"
   ]
  },
  {
   "cell_type": "code",
   "execution_count": 28,
   "id": "25ebb18a-6c2a-44b9-807c-c63d3201ab6a",
   "metadata": {},
   "outputs": [],
   "source": [
    "arra = np.array(arra)"
   ]
  },
  {
   "cell_type": "code",
   "execution_count": 29,
   "id": "4d7c3859-f900-4bcf-8066-4f9b4caed7f3",
   "metadata": {},
   "outputs": [
    {
     "data": {
      "text/plain": [
       "array([[1, 2, 3],\n",
       "       [4, 5, 6],\n",
       "       [6, 7, 8]])"
      ]
     },
     "execution_count": 29,
     "metadata": {},
     "output_type": "execute_result"
    }
   ],
   "source": [
    "arra"
   ]
  },
  {
   "cell_type": "code",
   "execution_count": 30,
   "id": "ebcc7a60-1d6c-4292-9c3f-dfb0dbafec57",
   "metadata": {},
   "outputs": [
    {
     "data": {
      "text/plain": [
       "array([2, 2, 2])"
      ]
     },
     "execution_count": 30,
     "metadata": {},
     "output_type": "execute_result"
    }
   ],
   "source": [
    "ar.argmax(axis =1)"
   ]
  },
  {
   "cell_type": "code",
   "execution_count": 31,
   "id": "80798d4a-670d-471d-82f9-368c27e98084",
   "metadata": {},
   "outputs": [
    {
     "data": {
      "text/plain": [
       "array([0, 0, 0])"
      ]
     },
     "execution_count": 31,
     "metadata": {},
     "output_type": "execute_result"
    }
   ],
   "source": [
    "ar.argmin(axis=0)"
   ]
  },
  {
   "cell_type": "code",
   "execution_count": 32,
   "id": "0be77038-5d34-427b-b24e-6893af50502a",
   "metadata": {},
   "outputs": [
    {
     "data": {
      "text/plain": [
       "array([[ 2,  4,  6],\n",
       "       [ 8, 10, 12],\n",
       "       [12, 14, 16]])"
      ]
     },
     "execution_count": 32,
     "metadata": {},
     "output_type": "execute_result"
    }
   ],
   "source": [
    "ar + arra   # 2D array sum"
   ]
  },
  {
   "cell_type": "code",
   "execution_count": 33,
   "id": "3c88397e-7431-4c6d-8d56-c33c139ed487",
   "metadata": {},
   "outputs": [
    {
     "data": {
      "text/plain": [
       "array([[ 1,  4,  9],\n",
       "       [16, 25, 36],\n",
       "       [36, 49, 64]])"
      ]
     },
     "execution_count": 33,
     "metadata": {},
     "output_type": "execute_result"
    }
   ],
   "source": [
    "ar * arra   # 2D array multiply"
   ]
  },
  {
   "cell_type": "code",
   "execution_count": 52,
   "id": "4a1ae562-72a5-43fd-974d-9f585774a4e6",
   "metadata": {},
   "outputs": [
    {
     "data": {
      "text/plain": [
       "array([[0, 0, 0],\n",
       "       [0, 0, 0],\n",
       "       [0, 0, 0]])"
      ]
     },
     "execution_count": 52,
     "metadata": {},
     "output_type": "execute_result"
    }
   ],
   "source": [
    "ar - arra"
   ]
  },
  {
   "cell_type": "code",
   "execution_count": 53,
   "id": "f1e5433e-5ff5-469f-840d-121e5093237b",
   "metadata": {},
   "outputs": [
    {
     "data": {
      "text/plain": [
       "array([[1., 1., 1.],\n",
       "       [1., 1., 1.],\n",
       "       [1., 1., 1.]])"
      ]
     },
     "execution_count": 53,
     "metadata": {},
     "output_type": "execute_result"
    }
   ],
   "source": [
    "ar / arra"
   ]
  },
  {
   "cell_type": "code",
   "execution_count": 34,
   "id": "c2339145-aa76-4279-a5cb-20486071c8d5",
   "metadata": {},
   "outputs": [
    {
     "data": {
      "text/plain": [
       "array([[1.        , 1.41421356, 1.73205081],\n",
       "       [2.        , 2.23606798, 2.44948974],\n",
       "       [2.44948974, 2.64575131, 2.82842712]])"
      ]
     },
     "execution_count": 34,
     "metadata": {},
     "output_type": "execute_result"
    }
   ],
   "source": [
    "np.sqrt(arra)"
   ]
  },
  {
   "cell_type": "code",
   "execution_count": 36,
   "id": "a2d37e73-11d3-479e-8929-db85ffd4afd2",
   "metadata": {},
   "outputs": [
    {
     "data": {
      "text/plain": [
       "np.int64(8)"
      ]
     },
     "execution_count": 36,
     "metadata": {},
     "output_type": "execute_result"
    }
   ],
   "source": [
    "arra.max()"
   ]
  },
  {
   "cell_type": "code",
   "execution_count": 37,
   "id": "d3e222dc-e745-464c-a954-a00807af73ec",
   "metadata": {},
   "outputs": [
    {
     "data": {
      "text/plain": [
       "np.int64(1)"
      ]
     },
     "execution_count": 37,
     "metadata": {},
     "output_type": "execute_result"
    }
   ],
   "source": [
    "arra.min()"
   ]
  },
  {
   "cell_type": "code",
   "execution_count": 38,
   "id": "721b61b0-9b07-417d-ab6f-0fcaafd3cc91",
   "metadata": {},
   "outputs": [
    {
     "data": {
      "text/plain": [
       "np.int64(42)"
      ]
     },
     "execution_count": 38,
     "metadata": {},
     "output_type": "execute_result"
    }
   ],
   "source": [
    "arra.sum()"
   ]
  },
  {
   "cell_type": "code",
   "execution_count": 39,
   "id": "42033614-c2f4-4a99-847a-d0118950d897",
   "metadata": {},
   "outputs": [
    {
     "data": {
      "text/plain": [
       "(array([1, 2, 2, 2]), array([2, 0, 1, 2]))"
      ]
     },
     "execution_count": 39,
     "metadata": {},
     "output_type": "execute_result"
    }
   ],
   "source": [
    "np.where(arra>5)"
   ]
  },
  {
   "cell_type": "code",
   "execution_count": 40,
   "id": "c811f077-ae72-4dda-a1f7-89452eb8746a",
   "metadata": {},
   "outputs": [
    {
     "data": {
      "text/plain": [
       "9"
      ]
     },
     "execution_count": 40,
     "metadata": {},
     "output_type": "execute_result"
    }
   ],
   "source": [
    "np.count_nonzero(arra)"
   ]
  },
  {
   "cell_type": "code",
   "execution_count": 41,
   "id": "f2e3a9aa-c314-4982-877d-2005123cdc6c",
   "metadata": {},
   "outputs": [
    {
     "data": {
      "text/plain": [
       "(array([0, 0, 0, 1, 1, 1, 2, 2, 2]), array([0, 1, 2, 0, 1, 2, 0, 1, 2]))"
      ]
     },
     "execution_count": 41,
     "metadata": {},
     "output_type": "execute_result"
    }
   ],
   "source": [
    "np.nonzero(arra)"
   ]
  },
  {
   "cell_type": "code",
   "execution_count": 42,
   "id": "d9b81fb2-85d5-4acb-930d-62fd8b83263b",
   "metadata": {},
   "outputs": [],
   "source": [
    "import sys"
   ]
  },
  {
   "cell_type": "code",
   "execution_count": 43,
   "id": "4f41d9c1-f6fa-4a5f-928b-4deb49a6a45f",
   "metadata": {},
   "outputs": [],
   "source": [
    "py_arr = [3,2,8,7]\n"
   ]
  },
  {
   "cell_type": "code",
   "execution_count": 44,
   "id": "a1d2e4aa-b178-4e4f-874d-037c7b66c256",
   "metadata": {},
   "outputs": [],
   "source": [
    "np_arr = np.array(py_arr)"
   ]
  },
  {
   "cell_type": "code",
   "execution_count": 45,
   "id": "533caf64-9b45-4a55-b8a9-9118f85d8fdb",
   "metadata": {},
   "outputs": [
    {
     "data": {
      "text/plain": [
       "array([3, 2, 8, 7])"
      ]
     },
     "execution_count": 45,
     "metadata": {},
     "output_type": "execute_result"
    }
   ],
   "source": [
    "np_arr"
   ]
  },
  {
   "cell_type": "code",
   "execution_count": 46,
   "id": "2f92fc73-2179-4db9-b2ba-24edbcd9029d",
   "metadata": {},
   "outputs": [
    {
     "data": {
      "text/plain": [
       "[3, 2, 8, 7]"
      ]
     },
     "execution_count": 46,
     "metadata": {},
     "output_type": "execute_result"
    }
   ],
   "source": [
    "py_arr"
   ]
  },
  {
   "cell_type": "code",
   "execution_count": 47,
   "id": "36aab357-28e3-4a44-97c0-d91158bc43c8",
   "metadata": {},
   "outputs": [
    {
     "data": {
      "text/plain": [
       "88"
      ]
     },
     "execution_count": 47,
     "metadata": {},
     "output_type": "execute_result"
    }
   ],
   "source": [
    "sys.getsizeof(py_arr)"
   ]
  },
  {
   "cell_type": "code",
   "execution_count": 49,
   "id": "26b89e1d-3ece-4d28-8f51-417aa1c9a6b1",
   "metadata": {},
   "outputs": [
    {
     "data": {
      "text/plain": [
       "112"
      ]
     },
     "execution_count": 49,
     "metadata": {},
     "output_type": "execute_result"
    }
   ],
   "source": [
    "sys.getsizeof(1) * len(py_arr)"
   ]
  },
  {
   "cell_type": "code",
   "execution_count": 51,
   "id": "594cdc83-d89f-440a-9f15-60e63a585396",
   "metadata": {},
   "outputs": [
    {
     "data": {
      "text/plain": [
       "32"
      ]
     },
     "execution_count": 51,
     "metadata": {},
     "output_type": "execute_result"
    }
   ],
   "source": [
    "np_arr.itemsize * np_arr.size    # Numpy allocates less memory than normal python"
   ]
  },
  {
   "cell_type": "code",
   "execution_count": null,
   "id": "bbff8b1c-2b48-48aa-af51-7f8a3d0f046a",
   "metadata": {},
   "outputs": [],
   "source": []
  }
 ],
 "metadata": {
  "kernelspec": {
   "display_name": "Python 3 (ipykernel)",
   "language": "python",
   "name": "python3"
  },
  "language_info": {
   "codemirror_mode": {
    "name": "ipython",
    "version": 3
   },
   "file_extension": ".py",
   "mimetype": "text/x-python",
   "name": "python",
   "nbconvert_exporter": "python",
   "pygments_lexer": "ipython3",
   "version": "3.13.1"
  }
 },
 "nbformat": 4,
 "nbformat_minor": 5
}
