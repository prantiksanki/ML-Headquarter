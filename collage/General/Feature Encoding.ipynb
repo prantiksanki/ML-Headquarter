{
 "cells": [
  {
   "cell_type": "code",
   "execution_count": 21,
   "id": "89bf0c34-a13c-4810-b975-1e114ac715bc",
   "metadata": {},
   "outputs": [],
   "source": [
    "import pandas as pd\n",
    "from sklearn.preprocessing import LabelEncoder, OneHotEncoder, OrdinalEncoder"
   ]
  },
  {
   "cell_type": "code",
   "execution_count": 22,
   "id": "1a4cc794-b20a-4e2d-84b4-735ff0c5d3d9",
   "metadata": {},
   "outputs": [],
   "source": [
    "data = {'Color': ['Red','Blue','Green','Blue','Red','Green'], \n",
    "       'Size': ['S','M','L','M','S','L'],\n",
    "       'Prize' : [10,20,30,20,10,30]}\n",
    "df = pd.DataFrame(data)"
   ]
  },
  {
   "cell_type": "code",
   "execution_count": 23,
   "id": "b182742f-d5cf-43c2-a192-3e5a015a5ea8",
   "metadata": {},
   "outputs": [],
   "source": [
    "label_encoder = LabelEncoder()\n",
    "df['ColorLabelEncoded'] = label_encoder.fit_transform(df['Color'])"
   ]
  },
  {
   "cell_type": "code",
   "execution_count": 24,
   "id": "5e9f49f3-7d7f-465a-9dc2-88df387cfd49",
   "metadata": {},
   "outputs": [],
   "source": [
    "onehot_encoder = OneHotEncoder(sparse_output=False)\n",
    "onehot_encoded = onehot_encoder.fit_transform(df[['Color']])\n",
    "df_onehot_encoded = pd.DataFrame(onehot_encoded, columns=onehot_encoder.get_feature_names_out(['Color']))\n"
   ]
  },
  {
   "cell_type": "code",
   "execution_count": 25,
   "id": "e4e3b6ae-3803-4205-93ad-2504b3ae1234",
   "metadata": {},
   "outputs": [],
   "source": [
    "ordinal_encoder = OrdinalEncoder(categories=[['S', 'M', 'L']])\n",
    "df['SizeOrdinalEncoded'] = ordinal_encoder.fit_transform(df[['Size']])\n"
   ]
  },
  {
   "cell_type": "code",
   "execution_count": 26,
   "id": "df4d7d06-932f-4216-80fa-1da19c09f370",
   "metadata": {},
   "outputs": [
    {
     "name": "stdout",
     "output_type": "stream",
     "text": [
      "Label Encoded Data:\n",
      "    Color  ColorLabelEncoded\n",
      "0    Red                  2\n",
      "1   Blue                  0\n",
      "2  Green                  1\n",
      "3   Blue                  0\n",
      "4    Red                  2\n",
      "\n",
      "One-Hot Encoded Data:\n",
      "    Color_Blue  Color_Green  Color_Red\n",
      "0         0.0          0.0        1.0\n",
      "1         1.0          0.0        0.0\n",
      "2         0.0          1.0        0.0\n",
      "3         1.0          0.0        0.0\n",
      "4         0.0          0.0        1.0\n",
      "\n",
      "Ordinal Encoded Data:\n",
      "   Size  SizeOrdinalEncoded\n",
      "0    S                 0.0\n",
      "1    M                 1.0\n",
      "2    L                 2.0\n",
      "3    M                 1.0\n",
      "4    S                 0.0\n"
     ]
    }
   ],
   "source": [
    "print(\"Label Encoded Data:\\n\", df[['Color', 'ColorLabelEncoded']].head())\n",
    "print(\"\\nOne-Hot Encoded Data:\\n\", df_onehot_encoded.head())\n",
    "print(\"\\nOrdinal Encoded Data:\\n\", df[['Size', 'SizeOrdinalEncoded']].head())"
   ]
  },
  {
   "cell_type": "code",
   "execution_count": null,
   "id": "91e0dbdc-19e9-40bc-8802-d378087a6c54",
   "metadata": {},
   "outputs": [],
   "source": []
  }
 ],
 "metadata": {
  "kernelspec": {
   "display_name": "Python 3 (ipykernel)",
   "language": "python",
   "name": "python3"
  },
  "language_info": {
   "codemirror_mode": {
    "name": "ipython",
    "version": 3
   },
   "file_extension": ".py",
   "mimetype": "text/x-python",
   "name": "python",
   "nbconvert_exporter": "python",
   "pygments_lexer": "ipython3",
   "version": "3.13.1"
  }
 },
 "nbformat": 4,
 "nbformat_minor": 5
}
