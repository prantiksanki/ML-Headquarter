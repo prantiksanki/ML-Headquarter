{
 "cells": [
  {
   "cell_type": "code",
   "execution_count": 10,
   "id": "9caa3907-e137-4af8-ab25-10d2db51d411",
   "metadata": {},
   "outputs": [],
   "source": [
    "import numpy as np\n",
    "import pandas as pd\n",
    "import matplotlib.pyplot as plt\n",
    "import seaborn as sns\n",
    "from scipy.stats import skew"
   ]
  },
  {
   "cell_type": "code",
   "execution_count": 11,
   "id": "186130bc-460c-401c-8321-07c6db1031fc",
   "metadata": {},
   "outputs": [],
   "source": [
    "np.random.seed(42)\n",
    "data = np.concatenate([np.random.normal(50, 10, 100) , np.random.normal(100, 20, 50) , np.random.normal(200,50, 10)])\n",
    "df = pd.DataFrame(data, columns= [\"Values\"])"
   ]
  },
  {
   "cell_type": "code",
   "execution_count": 12,
   "id": "d139a0cc-0766-48da-b237-3900264dcdc6",
   "metadata": {},
   "outputs": [
    {
     "data": {
      "text/html": [
       "<div>\n",
       "<style scoped>\n",
       "    .dataframe tbody tr th:only-of-type {\n",
       "        vertical-align: middle;\n",
       "    }\n",
       "\n",
       "    .dataframe tbody tr th {\n",
       "        vertical-align: top;\n",
       "    }\n",
       "\n",
       "    .dataframe thead th {\n",
       "        text-align: right;\n",
       "    }\n",
       "</style>\n",
       "<table border=\"1\" class=\"dataframe\">\n",
       "  <thead>\n",
       "    <tr style=\"text-align: right;\">\n",
       "      <th></th>\n",
       "      <th>Values</th>\n",
       "    </tr>\n",
       "  </thead>\n",
       "  <tbody>\n",
       "    <tr>\n",
       "      <th>0</th>\n",
       "      <td>54.967142</td>\n",
       "    </tr>\n",
       "    <tr>\n",
       "      <th>1</th>\n",
       "      <td>48.617357</td>\n",
       "    </tr>\n",
       "    <tr>\n",
       "      <th>2</th>\n",
       "      <td>56.476885</td>\n",
       "    </tr>\n",
       "    <tr>\n",
       "      <th>3</th>\n",
       "      <td>65.230299</td>\n",
       "    </tr>\n",
       "    <tr>\n",
       "      <th>4</th>\n",
       "      <td>47.658466</td>\n",
       "    </tr>\n",
       "    <tr>\n",
       "      <th>...</th>\n",
       "      <td>...</td>\n",
       "    </tr>\n",
       "    <tr>\n",
       "      <th>155</th>\n",
       "      <td>164.282429</td>\n",
       "    </tr>\n",
       "    <tr>\n",
       "      <th>156</th>\n",
       "      <td>293.288726</td>\n",
       "    </tr>\n",
       "    <tr>\n",
       "      <th>157</th>\n",
       "      <td>223.691646</td>\n",
       "    </tr>\n",
       "    <tr>\n",
       "      <th>158</th>\n",
       "      <td>140.434825</td>\n",
       "    </tr>\n",
       "    <tr>\n",
       "      <th>159</th>\n",
       "      <td>232.827680</td>\n",
       "    </tr>\n",
       "  </tbody>\n",
       "</table>\n",
       "<p>160 rows × 1 columns</p>\n",
       "</div>"
      ],
      "text/plain": [
       "         Values\n",
       "0     54.967142\n",
       "1     48.617357\n",
       "2     56.476885\n",
       "3     65.230299\n",
       "4     47.658466\n",
       "..          ...\n",
       "155  164.282429\n",
       "156  293.288726\n",
       "157  223.691646\n",
       "158  140.434825\n",
       "159  232.827680\n",
       "\n",
       "[160 rows x 1 columns]"
      ]
     },
     "execution_count": 12,
     "metadata": {},
     "output_type": "execute_result"
    }
   ],
   "source": [
    "df"
   ]
  },
  {
   "cell_type": "code",
   "execution_count": 36,
   "id": "f300fd92-8705-4edf-b669-ad75af7ff9ad",
   "metadata": {},
   "outputs": [
    {
     "data": {
      "text/plain": [
       "Text(0.5, 1.0, 'Hist plot of values')"
      ]
     },
     "execution_count": 36,
     "metadata": {},
     "output_type": "execute_result"
    },
    {
     "data": {
      "image/png": "[encoded data removed]",
      "text/plain": [
       "<Figure size 640x480 with 1 Axes>"
      ]
     },
     "metadata": {},
     "output_type": "display_data"
    }
   ],
   "source": [
    "sns.histplot(df[\"Values\"], kde = True, color = \"purple\")\n",
    "plt.xlabel(\"Values\")\n",
    "plt.ylabel(\"Frequency\")\n",
    "plt.title(\"Hist plot of values\")"
   ]
  },
  {
   "cell_type": "code",
   "execution_count": 18,
   "id": "4e7c1870-fb9c-48aa-ab8d-830a18b36a5c",
   "metadata": {},
   "outputs": [
    {
     "name": "stdout",
     "output_type": "stream",
     "text": [
      "skewness of the data :  2.15\n"
     ]
    }
   ],
   "source": [
    "# Skewness calculation \n",
    "\n",
    "skewness = skew(df[\"Values\"])\n",
    "print(f\"skewness of the data : {skewness: .2f}\")"
   ]
  },
  {
   "cell_type": "code",
   "execution_count": 20,
   "id": "46ecf020-12d5-4389-8bed-25422ea36299",
   "metadata": {},
   "outputs": [
    {
     "name": "stdout",
     "output_type": "stream",
     "text": [
      "Standered deviation :  44.72\n"
     ]
    }
   ],
   "source": [
    "std_dev = df[\"Values\"].std()\n",
    "print(f\"Standered deviation : {std_dev : .2f}\")"
   ]
  },
  {
   "cell_type": "code",
   "execution_count": 21,
   "id": "cc063610-5f76-417e-a8ea-dafac5e10887",
   "metadata": {},
   "outputs": [
    {
     "name": "stdout",
     "output_type": "stream",
     "text": [
      "IQR :  47.24\n"
     ]
    }
   ],
   "source": [
    "Q1 = df[\"Values\"].quantile(0.25)\n",
    "Q2 = df[\"Values\"].quantile(0.75)\n",
    "IQR = Q2 - Q1\n",
    "print(f\"IQR : {IQR : .2f}\")"
   ]
  },
  {
   "cell_type": "code",
   "execution_count": 23,
   "id": "4b90659f-f7e2-4765-ae36-663d208f9474",
   "metadata": {},
   "outputs": [
    {
     "name": "stdout",
     "output_type": "stream",
     "text": [
      " Outliers detected :\n",
      "         Values\n",
      "150  212.524643\n",
      "151  217.322410\n",
      "152  165.998764\n",
      "153  211.612685\n",
      "154  214.653624\n",
      "156  293.288726\n",
      "157  223.691646\n",
      "159  232.827680\n"
     ]
    }
   ],
   "source": [
    "# Define outliers as points outside 1.5 * IQR from Q1 and Q3\n",
    "lower_bound = Q1 - 1.5 * IQR\n",
    "upper_bound = Q2 + 1.5 * IQR\n",
    "\n",
    "outliers = df [( df [\"Values\"] < lower_bound ) | ( df ['Values'] > upper_bound )]\n",
    "print (\" Outliers detected :\")\n",
    "print ( outliers )\n"
   ]
  },
  {
   "cell_type": "code",
   "execution_count": 27,
   "id": "1536d83d-5001-46f9-9d6a-e5d3be2baf27",
   "metadata": {},
   "outputs": [
    {
     "data": {
      "text/plain": [
       "Text(0.5, 1.0, 'Box Plot of Generated Data')"
      ]
     },
     "execution_count": 27,
     "metadata": {},
     "output_type": "execute_result"
    },
    {
     "data": {
      "image/png": "[encoded data removed]",
      "text/plain": [
       "<Figure size 640x480 with 1 Axes>"
      ]
     },
     "metadata": {},
     "output_type": "display_data"
    }
   ],
   "source": [
    "plt.boxplot(df[\"Values\"], vert=True, patch_artist=True)\n",
    "plt.ylabel(\"Values\")\n",
    "plt.title(\"Box Plot of Generated Data\")"
   ]
  },
  {
   "cell_type": "code",
   "execution_count": 30,
   "id": "9842cdcb-3d7a-4fb1-a814-cb3a8b1e23cc",
   "metadata": {},
   "outputs": [
    {
     "data": {
      "image/png": "[encoded data removed]",
      "text/plain": [
       "<Figure size 640x480 with 1 Axes>"
      ]
     },
     "metadata": {},
     "output_type": "display_data"
    }
   ],
   "source": [
    "sns.boxplot(x=df[\"Values\"] , color = \"purple\")\n",
    "plt.xlabel(\"Values\")\n",
    "plt.title(\"Box Plot of Generated Data\")\n",
    "plt.show()"
   ]
  },
  {
   "cell_type": "code",
   "execution_count": 34,
   "id": "4c6b3448-a6d5-4963-9564-22c06fc0926b",
   "metadata": {},
   "outputs": [
    {
     "data": {
      "text/plain": [
       "-0.9746816702273214"
      ]
     },
     "execution_count": 34,
     "metadata": {},
     "output_type": "execute_result"
    }
   ],
   "source": [
    "np.random.normal(loc=0.0, scale=1.0, size=None)"
   ]
  },
  {
   "cell_type": "code",
   "execution_count": 37,
   "id": "fb32d9e4-5bde-455d-95e7-7bf76e0045f9",
   "metadata": {},
   "outputs": [],
   "source": [
    "np.random.seed(42)\n",
    "data2 = np.concatenate([np.random.normal(100, 20, 100) , np.random.normal(100, 20, 100) , np.random.normal(100,20, 100)])\n",
    "df2 = pd.DataFrame(data, columns= [\"Values\"])"
   ]
  },
  {
   "cell_type": "code",
   "execution_count": 38,
   "id": "e5698063-1548-465f-b10f-20d3d2ff5249",
   "metadata": {},
   "outputs": [
    {
     "data": {
      "text/html": [
       "<div>\n",
       "<style scoped>\n",
       "    .dataframe tbody tr th:only-of-type {\n",
       "        vertical-align: middle;\n",
       "    }\n",
       "\n",
       "    .dataframe tbody tr th {\n",
       "        vertical-align: top;\n",
       "    }\n",
       "\n",
       "    .dataframe thead th {\n",
       "        text-align: right;\n",
       "    }\n",
       "</style>\n",
       "<table border=\"1\" class=\"dataframe\">\n",
       "  <thead>\n",
       "    <tr style=\"text-align: right;\">\n",
       "      <th></th>\n",
       "      <th>Values</th>\n",
       "    </tr>\n",
       "  </thead>\n",
       "  <tbody>\n",
       "    <tr>\n",
       "      <th>0</th>\n",
       "      <td>54.967142</td>\n",
       "    </tr>\n",
       "    <tr>\n",
       "      <th>1</th>\n",
       "      <td>48.617357</td>\n",
       "    </tr>\n",
       "    <tr>\n",
       "      <th>2</th>\n",
       "      <td>56.476885</td>\n",
       "    </tr>\n",
       "    <tr>\n",
       "      <th>3</th>\n",
       "      <td>65.230299</td>\n",
       "    </tr>\n",
       "    <tr>\n",
       "      <th>4</th>\n",
       "      <td>47.658466</td>\n",
       "    </tr>\n",
       "    <tr>\n",
       "      <th>...</th>\n",
       "      <td>...</td>\n",
       "    </tr>\n",
       "    <tr>\n",
       "      <th>155</th>\n",
       "      <td>164.282429</td>\n",
       "    </tr>\n",
       "    <tr>\n",
       "      <th>156</th>\n",
       "      <td>293.288726</td>\n",
       "    </tr>\n",
       "    <tr>\n",
       "      <th>157</th>\n",
       "      <td>223.691646</td>\n",
       "    </tr>\n",
       "    <tr>\n",
       "      <th>158</th>\n",
       "      <td>140.434825</td>\n",
       "    </tr>\n",
       "    <tr>\n",
       "      <th>159</th>\n",
       "      <td>232.827680</td>\n",
       "    </tr>\n",
       "  </tbody>\n",
       "</table>\n",
       "<p>160 rows × 1 columns</p>\n",
       "</div>"
      ],
      "text/plain": [
       "         Values\n",
       "0     54.967142\n",
       "1     48.617357\n",
       "2     56.476885\n",
       "3     65.230299\n",
       "4     47.658466\n",
       "..          ...\n",
       "155  164.282429\n",
       "156  293.288726\n",
       "157  223.691646\n",
       "158  140.434825\n",
       "159  232.827680\n",
       "\n",
       "[160 rows x 1 columns]"
      ]
     },
     "execution_count": 38,
     "metadata": {},
     "output_type": "execute_result"
    }
   ],
   "source": [
    "df2"
   ]
  },
  {
   "cell_type": "code",
   "execution_count": 39,
   "id": "ac188e08-8d86-42b1-a6b4-627ef4af9c7a",
   "metadata": {},
   "outputs": [
    {
     "data": {
      "text/plain": [
       "<Axes: xlabel='Values', ylabel='Count'>"
      ]
     },
     "execution_count": 39,
     "metadata": {},
     "output_type": "execute_result"
    },
    {
     "data": {
      "image/png": "[encoded data removed]",
      "text/plain": [
       "<Figure size 640x480 with 1 Axes>"
      ]
     },
     "metadata": {},
     "output_type": "display_data"
    }
   ],
   "source": [
    "sns.histplot(df2[\"Values\"])"
   ]
  },
  {
   "cell_type": "code",
   "execution_count": null,
   "id": "b0d3af98-fbbf-4f20-a1f9-5dd275bbe041",
   "metadata": {},
   "outputs": [],
   "source": []
  }
 ],
 "metadata": {
  "kernelspec": {
   "display_name": "Python 3 (ipykernel)",
   "language": "python",
   "name": "python3"
  },
  "language_info": {
   "codemirror_mode": {
    "name": "ipython",
    "version": 3
   },
   "file_extension": ".py",
   "mimetype": "text/x-python",
   "name": "python",
   "nbconvert_exporter": "python",
   "pygments_lexer": "ipython3",
   "version": "3.13.1"
  }
 },
 "nbformat": 4,
 "nbformat_minor": 5
}
