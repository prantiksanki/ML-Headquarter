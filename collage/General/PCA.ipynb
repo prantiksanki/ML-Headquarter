{
 "cells": [
  {
   "cell_type": "code",
   "execution_count": 1,
   "id": "c8a0769f-de12-4751-a5fb-c90dc1dba173",
   "metadata": {},
   "outputs": [],
   "source": [
    "import numpy as np\n",
    "from sklearn.decomposition import PCA\n",
    "from sklearn.preprocessing import StandardScaler"
   ]
  },
  {
   "cell_type": "code",
   "execution_count": 2,
   "id": "1e64b149-f897-4805-b73f-4fb03693c653",
   "metadata": {},
   "outputs": [],
   "source": [
    "# Sample dataset\n",
    "X = np.array([[2.5, 2.4], [0.5, 0.7], [2.2, 2.9], [1.9, 2.2], [3.1, 3.0]])"
   ]
  },
  {
   "cell_type": "code",
   "execution_count": 3,
   "id": "c0ecf775-922f-4595-94cc-bfd0d0a00e7b",
   "metadata": {},
   "outputs": [],
   "source": [
    "# Standardizing the dataset\n",
    "scaler = StandardScaler()\n",
    "X_scaled = scaler.fit_transform(X)"
   ]
  },
  {
   "cell_type": "code",
   "execution_count": 4,
   "id": "a747ddd6-75de-4a4a-97da-1d0b0a48e9f2",
   "metadata": {},
   "outputs": [
    {
     "name": "stdout",
     "output_type": "stream",
     "text": [
      "Reduced Data: [[ 0.5124457 ]\n",
      " [-2.57528445]\n",
      " [ 0.69555387]\n",
      " [-0.1485184 ]\n",
      " [ 1.51580328]]\n"
     ]
    }
   ],
   "source": [
    "# Applying PCA\n",
    "pca = PCA(n_components=1)\n",
    "X_pca = pca.fit_transform(X_scaled)\n",
    "print(\"Reduced Data:\", X_pca)"
   ]
  },
  {
   "cell_type": "code",
   "execution_count": null,
   "id": "9f7a062f-b746-4811-bf86-ec85616e44ff",
   "metadata": {},
   "outputs": [],
   "source": []
  }
 ],
 "metadata": {
  "kernelspec": {
   "display_name": "Python 3 (ipykernel)",
   "language": "python",
   "name": "python3"
  },
  "language_info": {
   "codemirror_mode": {
    "name": "ipython",
    "version": 3
   },
   "file_extension": ".py",
   "mimetype": "text/x-python",
   "name": "python",
   "nbconvert_exporter": "python",
   "pygments_lexer": "ipython3",
   "version": "3.13.1"
  }
 },
 "nbformat": 4,
 "nbformat_minor": 5
}
