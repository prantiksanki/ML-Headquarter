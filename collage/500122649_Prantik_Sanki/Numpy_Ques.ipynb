{
  "cells": [
    {
      "cell_type": "markdown",
      "metadata": {
        "id": "5YNIISPploTY"
      },
      "source": [
        "_____\n",
        "**Write a program to create an array [10, 5, 7, 20, 15, -9, 33], print it, Find the maximum and minimum Value of the array**"
      ]
    },
    {
      "cell_type": "code",
      "execution_count": 1,
      "metadata": {
        "id": "LGwQ0y0wloTY"
      },
      "outputs": [],
      "source": [
        "#Code here\n",
        "import numpy as np "
      ]
    },
    {
      "cell_type": "code",
      "execution_count": 2,
      "metadata": {},
      "outputs": [
        {
          "name": "stdout",
          "output_type": "stream",
          "text": [
            "[10  5  7 20 15 -9 33]\n",
            "33\n",
            "-9\n"
          ]
        }
      ],
      "source": [
        "myarr = np.array([10, 5, 7, 20, 15, -9, 33] , np.int8)\n",
        "print(myarr)\n",
        "print(np.max(myarr))\n",
        "print(np.min(myarr))\n"
      ]
    },
    {
      "cell_type": "markdown",
      "metadata": {
        "id": "CjKQrl4ZloTY"
      },
      "source": [
        "______\n",
        "**Write a program to accept an array of elements and find the maximum without using max function**"
      ]
    },
    {
      "cell_type": "code",
      "execution_count": 3,
      "metadata": {
        "id": "jFqGo32uloTY"
      },
      "outputs": [],
      "source": [
        "#Code here\n",
        "myarr1 = np.array([10, 5, 7, 20, 15, -9, 33] , np.int8)\n",
        "maxi = myarr1[0]\n",
        "for i in range(len(myarr1)):\n",
        "    if myarr1[i] > maxi:\n",
        "        maxi = myarr1[i]\n"
      ]
    },
    {
      "cell_type": "code",
      "execution_count": 4,
      "metadata": {},
      "outputs": [
        {
          "name": "stdout",
          "output_type": "stream",
          "text": [
            "33\n"
          ]
        }
      ],
      "source": [
        "print(maxi) "
      ]
    },
    {
      "cell_type": "markdown",
      "metadata": {
        "id": "V1Tbn_avloTY"
      },
      "source": [
        "___\n",
        "**Write a program to accept two matrices [[1,2],[3,4]],   [[2,4],[6,8]]and find the sum and subtraction of two matrices**"
      ]
    },
    {
      "cell_type": "code",
      "execution_count": 5,
      "metadata": {
        "id": "jyu705aKloTZ"
      },
      "outputs": [
        {
          "name": "stdout",
          "output_type": "stream",
          "text": [
            "3\n",
            "6\n",
            "\n",
            "9\n",
            "12\n",
            "\n"
          ]
        }
      ],
      "source": [
        "#Code here\n",
        "l1 = np.array ([[1,2],[3,4]])\n",
        "l2 = np.array ([[2,4],[6,8]])\n",
        "for i in range (len(l1)):\n",
        "    for j in range (len(l1[0])):\n",
        "        print(l1[i][j] + l2[i][j])\n",
        "    print()\n"
      ]
    },
    {
      "cell_type": "markdown",
      "metadata": {
        "id": "e8iqIwlxloTZ"
      },
      "source": [
        "___\n",
        "**Write a program to generate a ranodom matrix of size 5 X 6. Add another row containing random elements to it. Find the sum of each row.**"
      ]
    },
    {
      "cell_type": "code",
      "execution_count": 6,
      "metadata": {
        "id": "RFvvJzj3loTZ"
      },
      "outputs": [
        {
          "name": "stdout",
          "output_type": "stream",
          "text": [
            "Original matrix:\n",
            "[[0.10319903 0.4232364  0.17389699 0.63740574 0.25487553 0.58377493]\n",
            " [0.40149387 0.06987114 0.05707421 0.39997919 0.527054   0.45303815]\n",
            " [0.94418493 0.46866136 0.15509849 0.13732235 0.45235419 0.94350207]\n",
            " [0.31808721 0.21360688 0.98781686 0.20893212 0.67478225 0.07421575]\n",
            " [0.08564354 0.55664872 0.38887345 0.22774787 0.47967593 0.84063297]]\n",
            "New row: \n",
            "[[0.87227671 0.72308702 0.42861081 0.60449968 0.29107888 0.7973962 ]]\n",
            "\n",
            "Matrix after adding new row:\n",
            "[[0.10319903 0.4232364  0.17389699 0.63740574 0.25487553 0.58377493]\n",
            " [0.40149387 0.06987114 0.05707421 0.39997919 0.527054   0.45303815]\n",
            " [0.94418493 0.46866136 0.15509849 0.13732235 0.45235419 0.94350207]\n",
            " [0.31808721 0.21360688 0.98781686 0.20893212 0.67478225 0.07421575]\n",
            " [0.08564354 0.55664872 0.38887345 0.22774787 0.47967593 0.84063297]\n",
            " [0.87227671 0.72308702 0.42861081 0.60449968 0.29107888 0.7973962 ]]\n"
          ]
        }
      ],
      "source": [
        "#Code here\n",
        "matrix = np.random.rand(5, 6)\n",
        "print(\"Original matrix:\")\n",
        "print(matrix)\n",
        "\n",
        "new_row = np.random.rand(1, 6)\n",
        "\n",
        "print(\"New row: \")\n",
        "print(new_row)\n",
        "\n",
        "matrix = np.vstack((matrix, new_row))\n",
        "print(\"\\nMatrix after adding new row:\")\n",
        "print(matrix)"
      ]
    },
    {
      "cell_type": "markdown",
      "metadata": {
        "id": "CIhpDElPloTZ"
      },
      "source": [
        "___\n",
        "**Write a program to generate a ranodm integer matrix of size 5 X 6. Add another column containing random integers to it. Compute the sine of each element and print it**"
      ]
    },
    {
      "cell_type": "code",
      "execution_count": 12,
      "metadata": {
        "id": "HXJgYMTDloTZ"
      },
      "outputs": [
        {
          "name": "stdout",
          "output_type": "stream",
          "text": [
            "[[0.37534281 0.37631891 0.50829261 0.79355229 0.32981679 0.62687677]\n",
            " [0.426627   0.1715158  0.54090098 0.14805026 0.39589977 0.2021698 ]\n",
            " [0.30470713 0.20983614 0.95597753 0.50028982 0.65939248 0.59028993]\n",
            " [0.00622623 0.61816242 0.92992446 0.23377349 0.91342554 0.2033467 ]\n",
            " [0.73975455 0.30198177 0.11729469 0.34048962 0.70889159 0.63262642]]\n",
            "[[0.73489625]\n",
            " [0.72533447]\n",
            " [0.1308611 ]\n",
            " [0.157172  ]\n",
            " [0.15109429]]\n",
            "[[0.37534281 0.37631891 0.50829261 0.79355229 0.32981679 0.62687677\n",
            "  0.73489625]\n",
            " [0.426627   0.1715158  0.54090098 0.14805026 0.39589977 0.2021698\n",
            "  0.72533447]\n",
            " [0.30470713 0.20983614 0.95597753 0.50028982 0.65939248 0.59028993\n",
            "  0.1308611 ]\n",
            " [0.00622623 0.61816242 0.92992446 0.23377349 0.91342554 0.2033467\n",
            "  0.157172  ]\n",
            " [0.73975455 0.30198177 0.11729469 0.34048962 0.70889159 0.63262642\n",
            "  0.15109429]]\n"
          ]
        }
      ],
      "source": [
        "#Code here\n",
        "matrix2 = np.random.rand(5,6)\n",
        "print(matrix2)\n",
        "\n",
        "new_col = np.random.rand(5,1)\n",
        "print(new_col)\n",
        "\n",
        "matrix2 = np.hstack((matrix2, new_col))\n",
        "print(matrix2)"
      ]
    },
    {
      "cell_type": "code",
      "execution_count": 13,
      "metadata": {},
      "outputs": [
        {
          "name": "stdout",
          "output_type": "stream",
          "text": [
            "\n",
            "Sine of each element in the matrix:\n",
            "[[0.74587121 0.63282628 0.35567651 0.08805375 0.72813554 0.76360313]\n",
            " [0.60651247 0.0439972  0.28173447 0.63847353 0.10318854 0.63997249]\n",
            " [0.04131887 0.43108127 0.81641349 0.83397028 0.71826614 0.8072783 ]\n",
            " [0.35400861 0.67982438 0.46876772 0.57247615 0.19249279 0.51959814]\n",
            " [0.79539704 0.82752442 0.20668603 0.03814287 0.27683771 0.38044535]]\n"
          ]
        }
      ],
      "source": [
        "random_matrix = np.random.rand(5,6)\n",
        "sine_matrix = np.sin(random_matrix)\n",
        "print(\"\\nSine of each element in the matrix:\")\n",
        "print(sine_matrix)"
      ]
    },
    {
      "cell_type": "markdown",
      "metadata": {
        "id": "-St006l8loTZ"
      },
      "source": [
        "___\n",
        "**Write a program to generate a ranodm matrix of size 5 X 6. Consider the 3rd and 4th row; and 2nd, 3rd and 4th column and print the resultant matrix using slicing**"
      ]
    },
    {
      "cell_type": "code",
      "execution_count": 8,
      "metadata": {
        "id": "SUSwF0zRloTZ"
      },
      "outputs": [
        {
          "name": "stdout",
          "output_type": "stream",
          "text": [
            "[[0.80958029 0.57083767 0.33593132 0.94703988 0.08662189 0.2829798 ]\n",
            " [0.03123139 0.04630021 0.10494855 0.18315765 0.1433367  0.42435524]\n",
            " [0.34731259 0.4485885  0.07708844 0.63449834 0.9014962  0.71156138]\n",
            " [0.20447394 0.47874917 0.36458707 0.4371901  0.49523076 0.46057417]\n",
            " [0.82349544 0.79796599 0.22644404 0.52304928 0.06981275 0.74349307]]\n",
            "\n",
            "\n",
            "[[0.4485885  0.07708844 0.63449834]\n",
            " [0.47874917 0.36458707 0.4371901 ]]\n"
          ]
        }
      ],
      "source": [
        "#Code here\n",
        "matrix3 = np.random.rand(5,6)\n",
        "print(matrix3)\n",
        "sliced_matrix = matrix3[2:4, 1:4]\n",
        "print(\"\\n\")\n",
        "print(sliced_matrix)\n",
        "\n"
      ]
    },
    {
      "cell_type": "markdown",
      "metadata": {
        "id": "np6xZQWTloTa"
      },
      "source": [
        "### Great Job!"
      ]
    }
  ],
  "metadata": {
    "colab": {
      "provenance": []
    },
    "kernelspec": {
      "display_name": "Python 3",
      "language": "python",
      "name": "python3"
    },
    "language_info": {
      "codemirror_mode": {
        "name": "ipython",
        "version": 3
      },
      "file_extension": ".py",
      "mimetype": "text/x-python",
      "name": "python",
      "nbconvert_exporter": "python",
      "pygments_lexer": "ipython3",
      "version": "3.13.1"
    }
  },
  "nbformat": 4,
  "nbformat_minor": 0
}
