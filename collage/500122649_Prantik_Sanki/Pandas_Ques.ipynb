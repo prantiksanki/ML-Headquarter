{
  "cells": [
    {
      "cell_type": "markdown",
      "metadata": {
        "id": "qcV0GNfbm2MC"
      },
      "source": [
        "______\n",
        "**1. Write a program to initialize a dictionary (of your choice) and create a pandas DataFrame from it. Print the dataframe?**"
      ]
    },
    {
      "cell_type": "code",
      "execution_count": 3,
      "metadata": {
        "id": "b8TpzXd5m2MD"
      },
      "outputs": [],
      "source": [
        "#Code here\n",
        "import pandas as pd"
      ]
    },
    {
      "cell_type": "code",
      "execution_count": 6,
      "metadata": {},
      "outputs": [
        {
          "name": "stdout",
          "output_type": "stream",
          "text": [
            "{'Name': ['Prantik', 'Kinkar', 'Khelna', 'Poulami', 'Chini'], 'Age': [22, 60, 50, 24, 2], 'Roll No': [1, 2, 3, 4, 5]}\n",
            "      Name  Age  Roll No\n",
            "0  Prantik   22        1\n",
            "1   Kinkar   60        2\n",
            "2   Khelna   50        3\n",
            "3  Poulami   24        4\n",
            "4    Chini    2        5\n"
          ]
        }
      ],
      "source": [
        "dict = {\"Name\" : [\"Prantik\", \"Kinkar\",\"Khelna\",\"Poulami\",\"Chini\"], \n",
        "        \"Age\" : [22, 60, 50, 24, 2], \n",
        "         \"Roll No\" : [1,2,3,4,5] }\n",
        "\n",
        "print(dict)\n",
        "\n",
        "df1 = pd.DataFrame(dict)\n",
        "print(df1)"
      ]
    },
    {
      "cell_type": "markdown",
      "metadata": {
        "id": "TKhMaxxZm2MD"
      },
      "source": [
        "___\n",
        "**2. Write a program to read the CSV file \"summer.csv\" into a pandas DataFrame \"df\", display the first 5 rows, and print the DataFrame's shape**"
      ]
    },
    {
      "cell_type": "code",
      "execution_count": 7,
      "metadata": {
        "id": "X3KlxWcfm2MD"
      },
      "outputs": [
        {
          "name": "stdout",
          "output_type": "stream",
          "text": [
            "       Year    City      Sport           Discipline  \\\n",
            "0      1896  Athens   Aquatics             Swimming   \n",
            "1      1896  Athens   Aquatics             Swimming   \n",
            "2      1896  Athens   Aquatics             Swimming   \n",
            "3      1896  Athens   Aquatics             Swimming   \n",
            "4      1896  Athens   Aquatics             Swimming   \n",
            "...     ...     ...        ...                  ...   \n",
            "31160  2012  London  Wrestling  Wrestling Freestyle   \n",
            "31161  2012  London  Wrestling  Wrestling Freestyle   \n",
            "31162  2012  London  Wrestling  Wrestling Freestyle   \n",
            "31163  2012  London  Wrestling  Wrestling Freestyle   \n",
            "31164  2012  London  Wrestling  Wrestling Freestyle   \n",
            "\n",
            "                         Athlete Country Gender                       Event  \\\n",
            "0                  HAJOS, Alfred     HUN    Men              100M Freestyle   \n",
            "1               HERSCHMANN, Otto     AUT    Men              100M Freestyle   \n",
            "2              DRIVAS, Dimitrios     GRE    Men  100M Freestyle For Sailors   \n",
            "3             MALOKINIS, Ioannis     GRE    Men  100M Freestyle For Sailors   \n",
            "4             CHASAPIS, Spiridon     GRE    Men  100M Freestyle For Sailors   \n",
            "...                          ...     ...    ...                         ...   \n",
            "31160         JANIKOWSKI, Damian     POL    Men                    Wg 84 KG   \n",
            "31161  REZAEI, Ghasem Gholamreza     IRI    Men                    Wg 96 KG   \n",
            "31162             TOTROV, Rustam     RUS    Men                    Wg 96 KG   \n",
            "31163          ALEKSANYAN, Artur     ARM    Men                    Wg 96 KG   \n",
            "31164             LIDBERG, Jimmy     SWE    Men                    Wg 96 KG   \n",
            "\n",
            "        Medal  \n",
            "0        Gold  \n",
            "1      Silver  \n",
            "2      Bronze  \n",
            "3        Gold  \n",
            "4      Silver  \n",
            "...       ...  \n",
            "31160  Bronze  \n",
            "31161    Gold  \n",
            "31162  Silver  \n",
            "31163  Bronze  \n",
            "31164  Bronze  \n",
            "\n",
            "[31165 rows x 9 columns]\n"
          ]
        }
      ],
      "source": [
        "#Code here\n",
        "df= pd.read_csv(\"summer.csv\")\n",
        "print(df)\n"
      ]
    },
    {
      "cell_type": "code",
      "execution_count": 8,
      "metadata": {},
      "outputs": [
        {
          "data": {
            "text/html": [
              "<div>\n",
              "<style scoped>\n",
              "    .dataframe tbody tr th:only-of-type {\n",
              "        vertical-align: middle;\n",
              "    }\n",
              "\n",
              "    .dataframe tbody tr th {\n",
              "        vertical-align: top;\n",
              "    }\n",
              "\n",
              "    .dataframe thead th {\n",
              "        text-align: right;\n",
              "    }\n",
              "</style>\n",
              "<table border=\"1\" class=\"dataframe\">\n",
              "  <thead>\n",
              "    <tr style=\"text-align: right;\">\n",
              "      <th></th>\n",
              "      <th>Year</th>\n",
              "      <th>City</th>\n",
              "      <th>Sport</th>\n",
              "      <th>Discipline</th>\n",
              "      <th>Athlete</th>\n",
              "      <th>Country</th>\n",
              "      <th>Gender</th>\n",
              "      <th>Event</th>\n",
              "      <th>Medal</th>\n",
              "    </tr>\n",
              "  </thead>\n",
              "  <tbody>\n",
              "    <tr>\n",
              "      <th>0</th>\n",
              "      <td>1896</td>\n",
              "      <td>Athens</td>\n",
              "      <td>Aquatics</td>\n",
              "      <td>Swimming</td>\n",
              "      <td>HAJOS, Alfred</td>\n",
              "      <td>HUN</td>\n",
              "      <td>Men</td>\n",
              "      <td>100M Freestyle</td>\n",
              "      <td>Gold</td>\n",
              "    </tr>\n",
              "    <tr>\n",
              "      <th>1</th>\n",
              "      <td>1896</td>\n",
              "      <td>Athens</td>\n",
              "      <td>Aquatics</td>\n",
              "      <td>Swimming</td>\n",
              "      <td>HERSCHMANN, Otto</td>\n",
              "      <td>AUT</td>\n",
              "      <td>Men</td>\n",
              "      <td>100M Freestyle</td>\n",
              "      <td>Silver</td>\n",
              "    </tr>\n",
              "    <tr>\n",
              "      <th>2</th>\n",
              "      <td>1896</td>\n",
              "      <td>Athens</td>\n",
              "      <td>Aquatics</td>\n",
              "      <td>Swimming</td>\n",
              "      <td>DRIVAS, Dimitrios</td>\n",
              "      <td>GRE</td>\n",
              "      <td>Men</td>\n",
              "      <td>100M Freestyle For Sailors</td>\n",
              "      <td>Bronze</td>\n",
              "    </tr>\n",
              "    <tr>\n",
              "      <th>3</th>\n",
              "      <td>1896</td>\n",
              "      <td>Athens</td>\n",
              "      <td>Aquatics</td>\n",
              "      <td>Swimming</td>\n",
              "      <td>MALOKINIS, Ioannis</td>\n",
              "      <td>GRE</td>\n",
              "      <td>Men</td>\n",
              "      <td>100M Freestyle For Sailors</td>\n",
              "      <td>Gold</td>\n",
              "    </tr>\n",
              "    <tr>\n",
              "      <th>4</th>\n",
              "      <td>1896</td>\n",
              "      <td>Athens</td>\n",
              "      <td>Aquatics</td>\n",
              "      <td>Swimming</td>\n",
              "      <td>CHASAPIS, Spiridon</td>\n",
              "      <td>GRE</td>\n",
              "      <td>Men</td>\n",
              "      <td>100M Freestyle For Sailors</td>\n",
              "      <td>Silver</td>\n",
              "    </tr>\n",
              "  </tbody>\n",
              "</table>\n",
              "</div>"
            ],
            "text/plain": [
              "   Year    City     Sport Discipline             Athlete Country Gender  \\\n",
              "0  1896  Athens  Aquatics   Swimming       HAJOS, Alfred     HUN    Men   \n",
              "1  1896  Athens  Aquatics   Swimming    HERSCHMANN, Otto     AUT    Men   \n",
              "2  1896  Athens  Aquatics   Swimming   DRIVAS, Dimitrios     GRE    Men   \n",
              "3  1896  Athens  Aquatics   Swimming  MALOKINIS, Ioannis     GRE    Men   \n",
              "4  1896  Athens  Aquatics   Swimming  CHASAPIS, Spiridon     GRE    Men   \n",
              "\n",
              "                        Event   Medal  \n",
              "0              100M Freestyle    Gold  \n",
              "1              100M Freestyle  Silver  \n",
              "2  100M Freestyle For Sailors  Bronze  \n",
              "3  100M Freestyle For Sailors    Gold  \n",
              "4  100M Freestyle For Sailors  Silver  "
            ]
          },
          "execution_count": 8,
          "metadata": {},
          "output_type": "execute_result"
        }
      ],
      "source": [
        "df.head()"
      ]
    },
    {
      "cell_type": "code",
      "execution_count": 9,
      "metadata": {},
      "outputs": [
        {
          "data": {
            "text/plain": [
              "(31165, 9)"
            ]
          },
          "execution_count": 9,
          "metadata": {},
          "output_type": "execute_result"
        }
      ],
      "source": [
        "df.shape"
      ]
    },
    {
      "cell_type": "markdown",
      "metadata": {
        "id": "hhREPppvm2MD"
      },
      "source": [
        "___\n",
        "**3. Write a program to display the last 10 rows of the DataFrame?**"
      ]
    },
    {
      "cell_type": "code",
      "execution_count": 10,
      "metadata": {
        "id": "0LMVJXRPm2ME"
      },
      "outputs": [
        {
          "data": {
            "text/html": [
              "<div>\n",
              "<style scoped>\n",
              "    .dataframe tbody tr th:only-of-type {\n",
              "        vertical-align: middle;\n",
              "    }\n",
              "\n",
              "    .dataframe tbody tr th {\n",
              "        vertical-align: top;\n",
              "    }\n",
              "\n",
              "    .dataframe thead th {\n",
              "        text-align: right;\n",
              "    }\n",
              "</style>\n",
              "<table border=\"1\" class=\"dataframe\">\n",
              "  <thead>\n",
              "    <tr style=\"text-align: right;\">\n",
              "      <th></th>\n",
              "      <th>Year</th>\n",
              "      <th>City</th>\n",
              "      <th>Sport</th>\n",
              "      <th>Discipline</th>\n",
              "      <th>Athlete</th>\n",
              "      <th>Country</th>\n",
              "      <th>Gender</th>\n",
              "      <th>Event</th>\n",
              "      <th>Medal</th>\n",
              "    </tr>\n",
              "  </thead>\n",
              "  <tbody>\n",
              "    <tr>\n",
              "      <th>31155</th>\n",
              "      <td>2012</td>\n",
              "      <td>London</td>\n",
              "      <td>Wrestling</td>\n",
              "      <td>Wrestling Freestyle</td>\n",
              "      <td>AHMADOV, Emin</td>\n",
              "      <td>AZE</td>\n",
              "      <td>Men</td>\n",
              "      <td>Wg 74 KG</td>\n",
              "      <td>Bronze</td>\n",
              "    </tr>\n",
              "    <tr>\n",
              "      <th>31156</th>\n",
              "      <td>2012</td>\n",
              "      <td>London</td>\n",
              "      <td>Wrestling</td>\n",
              "      <td>Wrestling Freestyle</td>\n",
              "      <td>KAZAKEVIC, Aleksandr</td>\n",
              "      <td>LTU</td>\n",
              "      <td>Men</td>\n",
              "      <td>Wg 74 KG</td>\n",
              "      <td>Bronze</td>\n",
              "    </tr>\n",
              "    <tr>\n",
              "      <th>31157</th>\n",
              "      <td>2012</td>\n",
              "      <td>London</td>\n",
              "      <td>Wrestling</td>\n",
              "      <td>Wrestling Freestyle</td>\n",
              "      <td>KHUGAEV, Alan</td>\n",
              "      <td>RUS</td>\n",
              "      <td>Men</td>\n",
              "      <td>Wg 84 KG</td>\n",
              "      <td>Gold</td>\n",
              "    </tr>\n",
              "    <tr>\n",
              "      <th>31158</th>\n",
              "      <td>2012</td>\n",
              "      <td>London</td>\n",
              "      <td>Wrestling</td>\n",
              "      <td>Wrestling Freestyle</td>\n",
              "      <td>EBRAHIM, Karam Mohamed Gaber</td>\n",
              "      <td>EGY</td>\n",
              "      <td>Men</td>\n",
              "      <td>Wg 84 KG</td>\n",
              "      <td>Silver</td>\n",
              "    </tr>\n",
              "    <tr>\n",
              "      <th>31159</th>\n",
              "      <td>2012</td>\n",
              "      <td>London</td>\n",
              "      <td>Wrestling</td>\n",
              "      <td>Wrestling Freestyle</td>\n",
              "      <td>GAJIYEV, Danyal</td>\n",
              "      <td>KAZ</td>\n",
              "      <td>Men</td>\n",
              "      <td>Wg 84 KG</td>\n",
              "      <td>Bronze</td>\n",
              "    </tr>\n",
              "    <tr>\n",
              "      <th>31160</th>\n",
              "      <td>2012</td>\n",
              "      <td>London</td>\n",
              "      <td>Wrestling</td>\n",
              "      <td>Wrestling Freestyle</td>\n",
              "      <td>JANIKOWSKI, Damian</td>\n",
              "      <td>POL</td>\n",
              "      <td>Men</td>\n",
              "      <td>Wg 84 KG</td>\n",
              "      <td>Bronze</td>\n",
              "    </tr>\n",
              "    <tr>\n",
              "      <th>31161</th>\n",
              "      <td>2012</td>\n",
              "      <td>London</td>\n",
              "      <td>Wrestling</td>\n",
              "      <td>Wrestling Freestyle</td>\n",
              "      <td>REZAEI, Ghasem Gholamreza</td>\n",
              "      <td>IRI</td>\n",
              "      <td>Men</td>\n",
              "      <td>Wg 96 KG</td>\n",
              "      <td>Gold</td>\n",
              "    </tr>\n",
              "    <tr>\n",
              "      <th>31162</th>\n",
              "      <td>2012</td>\n",
              "      <td>London</td>\n",
              "      <td>Wrestling</td>\n",
              "      <td>Wrestling Freestyle</td>\n",
              "      <td>TOTROV, Rustam</td>\n",
              "      <td>RUS</td>\n",
              "      <td>Men</td>\n",
              "      <td>Wg 96 KG</td>\n",
              "      <td>Silver</td>\n",
              "    </tr>\n",
              "    <tr>\n",
              "      <th>31163</th>\n",
              "      <td>2012</td>\n",
              "      <td>London</td>\n",
              "      <td>Wrestling</td>\n",
              "      <td>Wrestling Freestyle</td>\n",
              "      <td>ALEKSANYAN, Artur</td>\n",
              "      <td>ARM</td>\n",
              "      <td>Men</td>\n",
              "      <td>Wg 96 KG</td>\n",
              "      <td>Bronze</td>\n",
              "    </tr>\n",
              "    <tr>\n",
              "      <th>31164</th>\n",
              "      <td>2012</td>\n",
              "      <td>London</td>\n",
              "      <td>Wrestling</td>\n",
              "      <td>Wrestling Freestyle</td>\n",
              "      <td>LIDBERG, Jimmy</td>\n",
              "      <td>SWE</td>\n",
              "      <td>Men</td>\n",
              "      <td>Wg 96 KG</td>\n",
              "      <td>Bronze</td>\n",
              "    </tr>\n",
              "  </tbody>\n",
              "</table>\n",
              "</div>"
            ],
            "text/plain": [
              "       Year    City      Sport           Discipline  \\\n",
              "31155  2012  London  Wrestling  Wrestling Freestyle   \n",
              "31156  2012  London  Wrestling  Wrestling Freestyle   \n",
              "31157  2012  London  Wrestling  Wrestling Freestyle   \n",
              "31158  2012  London  Wrestling  Wrestling Freestyle   \n",
              "31159  2012  London  Wrestling  Wrestling Freestyle   \n",
              "31160  2012  London  Wrestling  Wrestling Freestyle   \n",
              "31161  2012  London  Wrestling  Wrestling Freestyle   \n",
              "31162  2012  London  Wrestling  Wrestling Freestyle   \n",
              "31163  2012  London  Wrestling  Wrestling Freestyle   \n",
              "31164  2012  London  Wrestling  Wrestling Freestyle   \n",
              "\n",
              "                            Athlete Country Gender     Event   Medal  \n",
              "31155                 AHMADOV, Emin     AZE    Men  Wg 74 KG  Bronze  \n",
              "31156          KAZAKEVIC, Aleksandr     LTU    Men  Wg 74 KG  Bronze  \n",
              "31157                 KHUGAEV, Alan     RUS    Men  Wg 84 KG    Gold  \n",
              "31158  EBRAHIM, Karam Mohamed Gaber     EGY    Men  Wg 84 KG  Silver  \n",
              "31159               GAJIYEV, Danyal     KAZ    Men  Wg 84 KG  Bronze  \n",
              "31160            JANIKOWSKI, Damian     POL    Men  Wg 84 KG  Bronze  \n",
              "31161     REZAEI, Ghasem Gholamreza     IRI    Men  Wg 96 KG    Gold  \n",
              "31162                TOTROV, Rustam     RUS    Men  Wg 96 KG  Silver  \n",
              "31163             ALEKSANYAN, Artur     ARM    Men  Wg 96 KG  Bronze  \n",
              "31164                LIDBERG, Jimmy     SWE    Men  Wg 96 KG  Bronze  "
            ]
          },
          "execution_count": 10,
          "metadata": {},
          "output_type": "execute_result"
        }
      ],
      "source": [
        "#Code here\n",
        "df.tail(10)"
      ]
    },
    {
      "cell_type": "markdown",
      "metadata": {
        "id": "F53jodYXm2ME"
      },
      "source": [
        "___\n",
        "**4. Write a program to get a summary of the DataFrame (such as the mean, count, etc.) and print the data types of all columns?**"
      ]
    },
    {
      "cell_type": "code",
      "execution_count": 11,
      "metadata": {
        "id": "Jf8-scn7m2ME"
      },
      "outputs": [
        {
          "data": {
            "text/html": [
              "<div>\n",
              "<style scoped>\n",
              "    .dataframe tbody tr th:only-of-type {\n",
              "        vertical-align: middle;\n",
              "    }\n",
              "\n",
              "    .dataframe tbody tr th {\n",
              "        vertical-align: top;\n",
              "    }\n",
              "\n",
              "    .dataframe thead th {\n",
              "        text-align: right;\n",
              "    }\n",
              "</style>\n",
              "<table border=\"1\" class=\"dataframe\">\n",
              "  <thead>\n",
              "    <tr style=\"text-align: right;\">\n",
              "      <th></th>\n",
              "      <th>Year</th>\n",
              "    </tr>\n",
              "  </thead>\n",
              "  <tbody>\n",
              "    <tr>\n",
              "      <th>count</th>\n",
              "      <td>31165.000000</td>\n",
              "    </tr>\n",
              "    <tr>\n",
              "      <th>mean</th>\n",
              "      <td>1970.482785</td>\n",
              "    </tr>\n",
              "    <tr>\n",
              "      <th>std</th>\n",
              "      <td>33.158416</td>\n",
              "    </tr>\n",
              "    <tr>\n",
              "      <th>min</th>\n",
              "      <td>1896.000000</td>\n",
              "    </tr>\n",
              "    <tr>\n",
              "      <th>25%</th>\n",
              "      <td>1948.000000</td>\n",
              "    </tr>\n",
              "    <tr>\n",
              "      <th>50%</th>\n",
              "      <td>1980.000000</td>\n",
              "    </tr>\n",
              "    <tr>\n",
              "      <th>75%</th>\n",
              "      <td>2000.000000</td>\n",
              "    </tr>\n",
              "    <tr>\n",
              "      <th>max</th>\n",
              "      <td>2012.000000</td>\n",
              "    </tr>\n",
              "  </tbody>\n",
              "</table>\n",
              "</div>"
            ],
            "text/plain": [
              "               Year\n",
              "count  31165.000000\n",
              "mean    1970.482785\n",
              "std       33.158416\n",
              "min     1896.000000\n",
              "25%     1948.000000\n",
              "50%     1980.000000\n",
              "75%     2000.000000\n",
              "max     2012.000000"
            ]
          },
          "execution_count": 11,
          "metadata": {},
          "output_type": "execute_result"
        }
      ],
      "source": [
        "#Code here\n",
        "df.describe()"
      ]
    },
    {
      "cell_type": "code",
      "execution_count": 12,
      "metadata": {},
      "outputs": [
        {
          "name": "stdout",
          "output_type": "stream",
          "text": [
            "Year           int64\n",
            "City          object\n",
            "Sport         object\n",
            "Discipline    object\n",
            "Athlete       object\n",
            "Country       object\n",
            "Gender        object\n",
            "Event         object\n",
            "Medal         object\n",
            "dtype: object\n"
          ]
        }
      ],
      "source": [
        "print(df.dtypes)"
      ]
    },
    {
      "cell_type": "markdown",
      "metadata": {
        "id": "1Qa4jQAlm2ME"
      },
      "source": [
        "___\n",
        "**5. Write a program to select a single column \"Gender\" from the DataFrame?**"
      ]
    },
    {
      "cell_type": "code",
      "execution_count": 13,
      "metadata": {
        "id": "kVCfVte4m2ME"
      },
      "outputs": [
        {
          "name": "stdout",
          "output_type": "stream",
          "text": [
            "0        Men\n",
            "1        Men\n",
            "2        Men\n",
            "3        Men\n",
            "4        Men\n",
            "        ... \n",
            "31160    Men\n",
            "31161    Men\n",
            "31162    Men\n",
            "31163    Men\n",
            "31164    Men\n",
            "Name: Gender, Length: 31165, dtype: object\n"
          ]
        }
      ],
      "source": [
        "#Code here\n",
        "print(df[\"Gender\"])"
      ]
    },
    {
      "cell_type": "markdown",
      "metadata": {
        "id": "rxmLBA_5m2ME"
      },
      "source": [
        "___\n",
        "**6. Write a program to select multiple columns \"Year\" and \"City\" from the DataFrame?**"
      ]
    },
    {
      "cell_type": "code",
      "execution_count": 14,
      "metadata": {
        "id": "HgDXSaBzm2ME"
      },
      "outputs": [
        {
          "name": "stdout",
          "output_type": "stream",
          "text": [
            "0        1896\n",
            "1        1896\n",
            "2        1896\n",
            "3        1896\n",
            "4        1896\n",
            "         ... \n",
            "31160    2012\n",
            "31161    2012\n",
            "31162    2012\n",
            "31163    2012\n",
            "31164    2012\n",
            "Name: Year, Length: 31165, dtype: int64 0        Athens\n",
            "1        Athens\n",
            "2        Athens\n",
            "3        Athens\n",
            "4        Athens\n",
            "          ...  \n",
            "31160    London\n",
            "31161    London\n",
            "31162    London\n",
            "31163    London\n",
            "31164    London\n",
            "Name: City, Length: 31165, dtype: object\n"
          ]
        }
      ],
      "source": [
        "#Code here\n",
        "print(df[\"Year\"],df[\"City\"])"
      ]
    },
    {
      "cell_type": "markdown",
      "metadata": {
        "id": "RR621DH9m2ME"
      },
      "source": [
        "___\n",
        "**7. Write a program to  filter rows in a DataFrame based on the condition that Gender = Men ?**"
      ]
    },
    {
      "cell_type": "code",
      "execution_count": 15,
      "metadata": {
        "id": "-6jOhf_qm2ME"
      },
      "outputs": [
        {
          "name": "stdout",
          "output_type": "stream",
          "text": [
            "0        True\n",
            "1        True\n",
            "2        True\n",
            "3        True\n",
            "4        True\n",
            "         ... \n",
            "31160    True\n",
            "31161    True\n",
            "31162    True\n",
            "31163    True\n",
            "31164    True\n",
            "Name: Gender, Length: 31165, dtype: bool\n"
          ]
        }
      ],
      "source": [
        "#Code here\n",
        "print(df[\"Gender\"] == \"Men\")\n"
      ]
    },
    {
      "cell_type": "markdown",
      "metadata": {
        "id": "24rVH2uLm2ME"
      },
      "source": [
        "___\n",
        "**8. Write a program to select and print the first 5 rows and columns 2 to 6 (inclusive) of the DataFrame. Also, print the type of the resulting object?**"
      ]
    },
    {
      "cell_type": "code",
      "execution_count": 16,
      "metadata": {
        "id": "fc1kT-pam2ME"
      },
      "outputs": [
        {
          "name": "stdout",
          "output_type": "stream",
          "text": [
            "         City      Sport           Discipline                    Athlete  \\\n",
            "0      Athens   Aquatics             Swimming              HAJOS, Alfred   \n",
            "1      Athens   Aquatics             Swimming           HERSCHMANN, Otto   \n",
            "2      Athens   Aquatics             Swimming          DRIVAS, Dimitrios   \n",
            "3      Athens   Aquatics             Swimming         MALOKINIS, Ioannis   \n",
            "4      Athens   Aquatics             Swimming         CHASAPIS, Spiridon   \n",
            "...       ...        ...                  ...                        ...   \n",
            "31160  London  Wrestling  Wrestling Freestyle         JANIKOWSKI, Damian   \n",
            "31161  London  Wrestling  Wrestling Freestyle  REZAEI, Ghasem Gholamreza   \n",
            "31162  London  Wrestling  Wrestling Freestyle             TOTROV, Rustam   \n",
            "31163  London  Wrestling  Wrestling Freestyle          ALEKSANYAN, Artur   \n",
            "31164  London  Wrestling  Wrestling Freestyle             LIDBERG, Jimmy   \n",
            "\n",
            "      Country  \n",
            "0         HUN  \n",
            "1         AUT  \n",
            "2         GRE  \n",
            "3         GRE  \n",
            "4         GRE  \n",
            "...       ...  \n",
            "31160     POL  \n",
            "31161     IRI  \n",
            "31162     RUS  \n",
            "31163     ARM  \n",
            "31164     SWE  \n",
            "\n",
            "[31165 rows x 5 columns]\n",
            "<class 'pandas.core.frame.DataFrame'>\n"
          ]
        }
      ],
      "source": [
        "#Code here\n",
        "\n",
        "df_subset = df.iloc[:, 1:6]\n",
        "print(df_subset)\n",
        "print(type(df_subset))\n"
      ]
    },
    {
      "cell_type": "markdown",
      "metadata": {
        "id": "HIQHrOp9m2MF"
      },
      "source": [
        "___\n",
        "**9. Write a program to  delete a column \"City\" from the DataFrame and print the new dataframe??**"
      ]
    },
    {
      "cell_type": "code",
      "execution_count": 17,
      "metadata": {
        "id": "Vj7EGDH1m2MF"
      },
      "outputs": [
        {
          "data": {
            "text/html": [
              "<div>\n",
              "<style scoped>\n",
              "    .dataframe tbody tr th:only-of-type {\n",
              "        vertical-align: middle;\n",
              "    }\n",
              "\n",
              "    .dataframe tbody tr th {\n",
              "        vertical-align: top;\n",
              "    }\n",
              "\n",
              "    .dataframe thead th {\n",
              "        text-align: right;\n",
              "    }\n",
              "</style>\n",
              "<table border=\"1\" class=\"dataframe\">\n",
              "  <thead>\n",
              "    <tr style=\"text-align: right;\">\n",
              "      <th></th>\n",
              "      <th>Year</th>\n",
              "      <th>Sport</th>\n",
              "      <th>Discipline</th>\n",
              "      <th>Athlete</th>\n",
              "      <th>Country</th>\n",
              "      <th>Gender</th>\n",
              "      <th>Event</th>\n",
              "      <th>Medal</th>\n",
              "    </tr>\n",
              "  </thead>\n",
              "  <tbody>\n",
              "    <tr>\n",
              "      <th>0</th>\n",
              "      <td>1896</td>\n",
              "      <td>Aquatics</td>\n",
              "      <td>Swimming</td>\n",
              "      <td>HAJOS, Alfred</td>\n",
              "      <td>HUN</td>\n",
              "      <td>Men</td>\n",
              "      <td>100M Freestyle</td>\n",
              "      <td>Gold</td>\n",
              "    </tr>\n",
              "    <tr>\n",
              "      <th>1</th>\n",
              "      <td>1896</td>\n",
              "      <td>Aquatics</td>\n",
              "      <td>Swimming</td>\n",
              "      <td>HERSCHMANN, Otto</td>\n",
              "      <td>AUT</td>\n",
              "      <td>Men</td>\n",
              "      <td>100M Freestyle</td>\n",
              "      <td>Silver</td>\n",
              "    </tr>\n",
              "    <tr>\n",
              "      <th>2</th>\n",
              "      <td>1896</td>\n",
              "      <td>Aquatics</td>\n",
              "      <td>Swimming</td>\n",
              "      <td>DRIVAS, Dimitrios</td>\n",
              "      <td>GRE</td>\n",
              "      <td>Men</td>\n",
              "      <td>100M Freestyle For Sailors</td>\n",
              "      <td>Bronze</td>\n",
              "    </tr>\n",
              "    <tr>\n",
              "      <th>3</th>\n",
              "      <td>1896</td>\n",
              "      <td>Aquatics</td>\n",
              "      <td>Swimming</td>\n",
              "      <td>MALOKINIS, Ioannis</td>\n",
              "      <td>GRE</td>\n",
              "      <td>Men</td>\n",
              "      <td>100M Freestyle For Sailors</td>\n",
              "      <td>Gold</td>\n",
              "    </tr>\n",
              "    <tr>\n",
              "      <th>4</th>\n",
              "      <td>1896</td>\n",
              "      <td>Aquatics</td>\n",
              "      <td>Swimming</td>\n",
              "      <td>CHASAPIS, Spiridon</td>\n",
              "      <td>GRE</td>\n",
              "      <td>Men</td>\n",
              "      <td>100M Freestyle For Sailors</td>\n",
              "      <td>Silver</td>\n",
              "    </tr>\n",
              "    <tr>\n",
              "      <th>...</th>\n",
              "      <td>...</td>\n",
              "      <td>...</td>\n",
              "      <td>...</td>\n",
              "      <td>...</td>\n",
              "      <td>...</td>\n",
              "      <td>...</td>\n",
              "      <td>...</td>\n",
              "      <td>...</td>\n",
              "    </tr>\n",
              "    <tr>\n",
              "      <th>31160</th>\n",
              "      <td>2012</td>\n",
              "      <td>Wrestling</td>\n",
              "      <td>Wrestling Freestyle</td>\n",
              "      <td>JANIKOWSKI, Damian</td>\n",
              "      <td>POL</td>\n",
              "      <td>Men</td>\n",
              "      <td>Wg 84 KG</td>\n",
              "      <td>Bronze</td>\n",
              "    </tr>\n",
              "    <tr>\n",
              "      <th>31161</th>\n",
              "      <td>2012</td>\n",
              "      <td>Wrestling</td>\n",
              "      <td>Wrestling Freestyle</td>\n",
              "      <td>REZAEI, Ghasem Gholamreza</td>\n",
              "      <td>IRI</td>\n",
              "      <td>Men</td>\n",
              "      <td>Wg 96 KG</td>\n",
              "      <td>Gold</td>\n",
              "    </tr>\n",
              "    <tr>\n",
              "      <th>31162</th>\n",
              "      <td>2012</td>\n",
              "      <td>Wrestling</td>\n",
              "      <td>Wrestling Freestyle</td>\n",
              "      <td>TOTROV, Rustam</td>\n",
              "      <td>RUS</td>\n",
              "      <td>Men</td>\n",
              "      <td>Wg 96 KG</td>\n",
              "      <td>Silver</td>\n",
              "    </tr>\n",
              "    <tr>\n",
              "      <th>31163</th>\n",
              "      <td>2012</td>\n",
              "      <td>Wrestling</td>\n",
              "      <td>Wrestling Freestyle</td>\n",
              "      <td>ALEKSANYAN, Artur</td>\n",
              "      <td>ARM</td>\n",
              "      <td>Men</td>\n",
              "      <td>Wg 96 KG</td>\n",
              "      <td>Bronze</td>\n",
              "    </tr>\n",
              "    <tr>\n",
              "      <th>31164</th>\n",
              "      <td>2012</td>\n",
              "      <td>Wrestling</td>\n",
              "      <td>Wrestling Freestyle</td>\n",
              "      <td>LIDBERG, Jimmy</td>\n",
              "      <td>SWE</td>\n",
              "      <td>Men</td>\n",
              "      <td>Wg 96 KG</td>\n",
              "      <td>Bronze</td>\n",
              "    </tr>\n",
              "  </tbody>\n",
              "</table>\n",
              "<p>31165 rows × 8 columns</p>\n",
              "</div>"
            ],
            "text/plain": [
              "       Year      Sport           Discipline                    Athlete  \\\n",
              "0      1896   Aquatics             Swimming              HAJOS, Alfred   \n",
              "1      1896   Aquatics             Swimming           HERSCHMANN, Otto   \n",
              "2      1896   Aquatics             Swimming          DRIVAS, Dimitrios   \n",
              "3      1896   Aquatics             Swimming         MALOKINIS, Ioannis   \n",
              "4      1896   Aquatics             Swimming         CHASAPIS, Spiridon   \n",
              "...     ...        ...                  ...                        ...   \n",
              "31160  2012  Wrestling  Wrestling Freestyle         JANIKOWSKI, Damian   \n",
              "31161  2012  Wrestling  Wrestling Freestyle  REZAEI, Ghasem Gholamreza   \n",
              "31162  2012  Wrestling  Wrestling Freestyle             TOTROV, Rustam   \n",
              "31163  2012  Wrestling  Wrestling Freestyle          ALEKSANYAN, Artur   \n",
              "31164  2012  Wrestling  Wrestling Freestyle             LIDBERG, Jimmy   \n",
              "\n",
              "      Country Gender                       Event   Medal  \n",
              "0         HUN    Men              100M Freestyle    Gold  \n",
              "1         AUT    Men              100M Freestyle  Silver  \n",
              "2         GRE    Men  100M Freestyle For Sailors  Bronze  \n",
              "3         GRE    Men  100M Freestyle For Sailors    Gold  \n",
              "4         GRE    Men  100M Freestyle For Sailors  Silver  \n",
              "...       ...    ...                         ...     ...  \n",
              "31160     POL    Men                    Wg 84 KG  Bronze  \n",
              "31161     IRI    Men                    Wg 96 KG    Gold  \n",
              "31162     RUS    Men                    Wg 96 KG  Silver  \n",
              "31163     ARM    Men                    Wg 96 KG  Bronze  \n",
              "31164     SWE    Men                    Wg 96 KG  Bronze  \n",
              "\n",
              "[31165 rows x 8 columns]"
            ]
          },
          "execution_count": 17,
          "metadata": {},
          "output_type": "execute_result"
        }
      ],
      "source": [
        "#Code here\n",
        "new_df=df.drop(columns = [\"City\"])\n",
        "new_df"
      ]
    },
    {
      "cell_type": "markdown",
      "metadata": {
        "id": "oxocLbZEm2MF"
      },
      "source": [
        "___\n",
        "**10. Write a program to  rename a column \"Athlete\" to \"Participants\" in the DataFrame?**"
      ]
    },
    {
      "cell_type": "code",
      "execution_count": 18,
      "metadata": {
        "id": "HD5JU-J7m2MF"
      },
      "outputs": [
        {
          "data": {
            "text/html": [
              "<div>\n",
              "<style scoped>\n",
              "    .dataframe tbody tr th:only-of-type {\n",
              "        vertical-align: middle;\n",
              "    }\n",
              "\n",
              "    .dataframe tbody tr th {\n",
              "        vertical-align: top;\n",
              "    }\n",
              "\n",
              "    .dataframe thead th {\n",
              "        text-align: right;\n",
              "    }\n",
              "</style>\n",
              "<table border=\"1\" class=\"dataframe\">\n",
              "  <thead>\n",
              "    <tr style=\"text-align: right;\">\n",
              "      <th></th>\n",
              "      <th>Year</th>\n",
              "      <th>City</th>\n",
              "      <th>Sport</th>\n",
              "      <th>Discipline</th>\n",
              "      <th>Participants</th>\n",
              "      <th>Country</th>\n",
              "      <th>Gender</th>\n",
              "      <th>Event</th>\n",
              "      <th>Medal</th>\n",
              "    </tr>\n",
              "  </thead>\n",
              "  <tbody>\n",
              "    <tr>\n",
              "      <th>0</th>\n",
              "      <td>1896</td>\n",
              "      <td>Athens</td>\n",
              "      <td>Aquatics</td>\n",
              "      <td>Swimming</td>\n",
              "      <td>HAJOS, Alfred</td>\n",
              "      <td>HUN</td>\n",
              "      <td>Men</td>\n",
              "      <td>100M Freestyle</td>\n",
              "      <td>Gold</td>\n",
              "    </tr>\n",
              "    <tr>\n",
              "      <th>1</th>\n",
              "      <td>1896</td>\n",
              "      <td>Athens</td>\n",
              "      <td>Aquatics</td>\n",
              "      <td>Swimming</td>\n",
              "      <td>HERSCHMANN, Otto</td>\n",
              "      <td>AUT</td>\n",
              "      <td>Men</td>\n",
              "      <td>100M Freestyle</td>\n",
              "      <td>Silver</td>\n",
              "    </tr>\n",
              "    <tr>\n",
              "      <th>2</th>\n",
              "      <td>1896</td>\n",
              "      <td>Athens</td>\n",
              "      <td>Aquatics</td>\n",
              "      <td>Swimming</td>\n",
              "      <td>DRIVAS, Dimitrios</td>\n",
              "      <td>GRE</td>\n",
              "      <td>Men</td>\n",
              "      <td>100M Freestyle For Sailors</td>\n",
              "      <td>Bronze</td>\n",
              "    </tr>\n",
              "    <tr>\n",
              "      <th>3</th>\n",
              "      <td>1896</td>\n",
              "      <td>Athens</td>\n",
              "      <td>Aquatics</td>\n",
              "      <td>Swimming</td>\n",
              "      <td>MALOKINIS, Ioannis</td>\n",
              "      <td>GRE</td>\n",
              "      <td>Men</td>\n",
              "      <td>100M Freestyle For Sailors</td>\n",
              "      <td>Gold</td>\n",
              "    </tr>\n",
              "    <tr>\n",
              "      <th>4</th>\n",
              "      <td>1896</td>\n",
              "      <td>Athens</td>\n",
              "      <td>Aquatics</td>\n",
              "      <td>Swimming</td>\n",
              "      <td>CHASAPIS, Spiridon</td>\n",
              "      <td>GRE</td>\n",
              "      <td>Men</td>\n",
              "      <td>100M Freestyle For Sailors</td>\n",
              "      <td>Silver</td>\n",
              "    </tr>\n",
              "    <tr>\n",
              "      <th>...</th>\n",
              "      <td>...</td>\n",
              "      <td>...</td>\n",
              "      <td>...</td>\n",
              "      <td>...</td>\n",
              "      <td>...</td>\n",
              "      <td>...</td>\n",
              "      <td>...</td>\n",
              "      <td>...</td>\n",
              "      <td>...</td>\n",
              "    </tr>\n",
              "    <tr>\n",
              "      <th>31160</th>\n",
              "      <td>2012</td>\n",
              "      <td>London</td>\n",
              "      <td>Wrestling</td>\n",
              "      <td>Wrestling Freestyle</td>\n",
              "      <td>JANIKOWSKI, Damian</td>\n",
              "      <td>POL</td>\n",
              "      <td>Men</td>\n",
              "      <td>Wg 84 KG</td>\n",
              "      <td>Bronze</td>\n",
              "    </tr>\n",
              "    <tr>\n",
              "      <th>31161</th>\n",
              "      <td>2012</td>\n",
              "      <td>London</td>\n",
              "      <td>Wrestling</td>\n",
              "      <td>Wrestling Freestyle</td>\n",
              "      <td>REZAEI, Ghasem Gholamreza</td>\n",
              "      <td>IRI</td>\n",
              "      <td>Men</td>\n",
              "      <td>Wg 96 KG</td>\n",
              "      <td>Gold</td>\n",
              "    </tr>\n",
              "    <tr>\n",
              "      <th>31162</th>\n",
              "      <td>2012</td>\n",
              "      <td>London</td>\n",
              "      <td>Wrestling</td>\n",
              "      <td>Wrestling Freestyle</td>\n",
              "      <td>TOTROV, Rustam</td>\n",
              "      <td>RUS</td>\n",
              "      <td>Men</td>\n",
              "      <td>Wg 96 KG</td>\n",
              "      <td>Silver</td>\n",
              "    </tr>\n",
              "    <tr>\n",
              "      <th>31163</th>\n",
              "      <td>2012</td>\n",
              "      <td>London</td>\n",
              "      <td>Wrestling</td>\n",
              "      <td>Wrestling Freestyle</td>\n",
              "      <td>ALEKSANYAN, Artur</td>\n",
              "      <td>ARM</td>\n",
              "      <td>Men</td>\n",
              "      <td>Wg 96 KG</td>\n",
              "      <td>Bronze</td>\n",
              "    </tr>\n",
              "    <tr>\n",
              "      <th>31164</th>\n",
              "      <td>2012</td>\n",
              "      <td>London</td>\n",
              "      <td>Wrestling</td>\n",
              "      <td>Wrestling Freestyle</td>\n",
              "      <td>LIDBERG, Jimmy</td>\n",
              "      <td>SWE</td>\n",
              "      <td>Men</td>\n",
              "      <td>Wg 96 KG</td>\n",
              "      <td>Bronze</td>\n",
              "    </tr>\n",
              "  </tbody>\n",
              "</table>\n",
              "<p>31165 rows × 9 columns</p>\n",
              "</div>"
            ],
            "text/plain": [
              "       Year    City      Sport           Discipline  \\\n",
              "0      1896  Athens   Aquatics             Swimming   \n",
              "1      1896  Athens   Aquatics             Swimming   \n",
              "2      1896  Athens   Aquatics             Swimming   \n",
              "3      1896  Athens   Aquatics             Swimming   \n",
              "4      1896  Athens   Aquatics             Swimming   \n",
              "...     ...     ...        ...                  ...   \n",
              "31160  2012  London  Wrestling  Wrestling Freestyle   \n",
              "31161  2012  London  Wrestling  Wrestling Freestyle   \n",
              "31162  2012  London  Wrestling  Wrestling Freestyle   \n",
              "31163  2012  London  Wrestling  Wrestling Freestyle   \n",
              "31164  2012  London  Wrestling  Wrestling Freestyle   \n",
              "\n",
              "                    Participants Country Gender                       Event  \\\n",
              "0                  HAJOS, Alfred     HUN    Men              100M Freestyle   \n",
              "1               HERSCHMANN, Otto     AUT    Men              100M Freestyle   \n",
              "2              DRIVAS, Dimitrios     GRE    Men  100M Freestyle For Sailors   \n",
              "3             MALOKINIS, Ioannis     GRE    Men  100M Freestyle For Sailors   \n",
              "4             CHASAPIS, Spiridon     GRE    Men  100M Freestyle For Sailors   \n",
              "...                          ...     ...    ...                         ...   \n",
              "31160         JANIKOWSKI, Damian     POL    Men                    Wg 84 KG   \n",
              "31161  REZAEI, Ghasem Gholamreza     IRI    Men                    Wg 96 KG   \n",
              "31162             TOTROV, Rustam     RUS    Men                    Wg 96 KG   \n",
              "31163          ALEKSANYAN, Artur     ARM    Men                    Wg 96 KG   \n",
              "31164             LIDBERG, Jimmy     SWE    Men                    Wg 96 KG   \n",
              "\n",
              "        Medal  \n",
              "0        Gold  \n",
              "1      Silver  \n",
              "2      Bronze  \n",
              "3        Gold  \n",
              "4      Silver  \n",
              "...       ...  \n",
              "31160  Bronze  \n",
              "31161    Gold  \n",
              "31162  Silver  \n",
              "31163  Bronze  \n",
              "31164  Bronze  \n",
              "\n",
              "[31165 rows x 9 columns]"
            ]
          },
          "execution_count": 18,
          "metadata": {},
          "output_type": "execute_result"
        }
      ],
      "source": [
        "#Code here\n",
        "df.rename(columns={'Athlete': 'Participants'}, inplace=True)\n",
        "df"
      ]
    },
    {
      "cell_type": "markdown",
      "metadata": {
        "id": "bvpYy245m2MF"
      },
      "source": [
        "___\n",
        "**11. Write a program to select and print the \"Participants\", \"Medal\" and \"Event\" columns for index 10 and 201 from the DataFrame.?**"
      ]
    },
    {
      "cell_type": "code",
      "execution_count": 19,
      "metadata": {
        "id": "OSgRIQdpm2MF"
      },
      "outputs": [
        {
          "name": "stdout",
          "output_type": "stream",
          "text": [
            "          Participants   Medal           Event\n",
            "10   PEPANOS, Antonios  Silver  400M Freestyle\n",
            "201    LISTER, William    Gold      Water Polo\n"
          ]
        }
      ],
      "source": [
        "#Code here\n",
        "ans = df.loc[[10,201] , [\"Participants\", \"Medal\", \"Event\"]]\n",
        "print(ans)"
      ]
    },
    {
      "cell_type": "markdown",
      "metadata": {
        "id": "Zunfeqkym2MF"
      },
      "source": [
        "___\n",
        "**12. Write a program to display the first 10 rows of the df DataFrame and check for any missing values in each column.?**"
      ]
    },
    {
      "cell_type": "code",
      "execution_count": 20,
      "metadata": {
        "id": "i-sDeIWNm2MF"
      },
      "outputs": [
        {
          "name": "stdout",
          "output_type": "stream",
          "text": [
            "   Year    City     Sport Discipline           Participants Country Gender  \\\n",
            "0  1896  Athens  Aquatics   Swimming          HAJOS, Alfred     HUN    Men   \n",
            "1  1896  Athens  Aquatics   Swimming       HERSCHMANN, Otto     AUT    Men   \n",
            "2  1896  Athens  Aquatics   Swimming      DRIVAS, Dimitrios     GRE    Men   \n",
            "3  1896  Athens  Aquatics   Swimming     MALOKINIS, Ioannis     GRE    Men   \n",
            "4  1896  Athens  Aquatics   Swimming     CHASAPIS, Spiridon     GRE    Men   \n",
            "5  1896  Athens  Aquatics   Swimming  CHOROPHAS, Efstathios     GRE    Men   \n",
            "6  1896  Athens  Aquatics   Swimming          HAJOS, Alfred     HUN    Men   \n",
            "7  1896  Athens  Aquatics   Swimming       ANDREOU, Joannis     GRE    Men   \n",
            "8  1896  Athens  Aquatics   Swimming  CHOROPHAS, Efstathios     GRE    Men   \n",
            "9  1896  Athens  Aquatics   Swimming          NEUMANN, Paul     AUT    Men   \n",
            "\n",
            "                        Event   Medal  \n",
            "0              100M Freestyle    Gold  \n",
            "1              100M Freestyle  Silver  \n",
            "2  100M Freestyle For Sailors  Bronze  \n",
            "3  100M Freestyle For Sailors    Gold  \n",
            "4  100M Freestyle For Sailors  Silver  \n",
            "5             1200M Freestyle  Bronze  \n",
            "6             1200M Freestyle    Gold  \n",
            "7             1200M Freestyle  Silver  \n",
            "8              400M Freestyle  Bronze  \n",
            "9              400M Freestyle    Gold  \n"
          ]
        }
      ],
      "source": [
        "#Code here\n",
        "temp1 = df.head(10)\n",
        "print(temp1)"
      ]
    },
    {
      "cell_type": "code",
      "execution_count": 21,
      "metadata": {},
      "outputs": [
        {
          "data": {
            "text/plain": [
              "<bound method DataFrame.isnull of    Year    City     Sport Discipline           Participants Country Gender  \\\n",
              "0  1896  Athens  Aquatics   Swimming          HAJOS, Alfred     HUN    Men   \n",
              "1  1896  Athens  Aquatics   Swimming       HERSCHMANN, Otto     AUT    Men   \n",
              "2  1896  Athens  Aquatics   Swimming      DRIVAS, Dimitrios     GRE    Men   \n",
              "3  1896  Athens  Aquatics   Swimming     MALOKINIS, Ioannis     GRE    Men   \n",
              "4  1896  Athens  Aquatics   Swimming     CHASAPIS, Spiridon     GRE    Men   \n",
              "5  1896  Athens  Aquatics   Swimming  CHOROPHAS, Efstathios     GRE    Men   \n",
              "6  1896  Athens  Aquatics   Swimming          HAJOS, Alfred     HUN    Men   \n",
              "7  1896  Athens  Aquatics   Swimming       ANDREOU, Joannis     GRE    Men   \n",
              "8  1896  Athens  Aquatics   Swimming  CHOROPHAS, Efstathios     GRE    Men   \n",
              "9  1896  Athens  Aquatics   Swimming          NEUMANN, Paul     AUT    Men   \n",
              "\n",
              "                        Event   Medal  \n",
              "0              100M Freestyle    Gold  \n",
              "1              100M Freestyle  Silver  \n",
              "2  100M Freestyle For Sailors  Bronze  \n",
              "3  100M Freestyle For Sailors    Gold  \n",
              "4  100M Freestyle For Sailors  Silver  \n",
              "5             1200M Freestyle  Bronze  \n",
              "6             1200M Freestyle    Gold  \n",
              "7             1200M Freestyle  Silver  \n",
              "8              400M Freestyle  Bronze  \n",
              "9              400M Freestyle    Gold  >"
            ]
          },
          "execution_count": 21,
          "metadata": {},
          "output_type": "execute_result"
        }
      ],
      "source": [
        "temp1.isnull"
      ]
    },
    {
      "cell_type": "markdown",
      "metadata": {
        "id": "CCLtjf9pm2MF"
      },
      "source": [
        "___\n",
        "**13. Write a program to select and print the \"Country\" and \"Medal\" columns from the df DataFrame, and then print the number of unique values in each of these columns.?**"
      ]
    },
    {
      "cell_type": "code",
      "execution_count": 22,
      "metadata": {
        "id": "Zc5EF7Okm2MF"
      },
      "outputs": [
        {
          "name": "stdout",
          "output_type": "stream",
          "text": [
            "0        HUN\n",
            "1        AUT\n",
            "2        GRE\n",
            "3        GRE\n",
            "4        GRE\n",
            "        ... \n",
            "31160    POL\n",
            "31161    IRI\n",
            "31162    RUS\n",
            "31163    ARM\n",
            "31164    SWE\n",
            "Name: Country, Length: 31165, dtype: object\n",
            "0          Gold\n",
            "1        Silver\n",
            "2        Bronze\n",
            "3          Gold\n",
            "4        Silver\n",
            "          ...  \n",
            "31160    Bronze\n",
            "31161      Gold\n",
            "31162    Silver\n",
            "31163    Bronze\n",
            "31164    Bronze\n",
            "Name: Medal, Length: 31165, dtype: object\n"
          ]
        }
      ],
      "source": [
        "#Code here\n",
        "country_col = df[\"Country\"]\n",
        "medal_col = df[\"Medal\"]\n",
        "\n",
        "print(country_col)\n",
        "print(medal_col)"
      ]
    },
    {
      "cell_type": "code",
      "execution_count": 23,
      "metadata": {},
      "outputs": [
        {
          "name": "stdout",
          "output_type": "stream",
          "text": [
            "148\n",
            "3\n"
          ]
        }
      ],
      "source": [
        "unique_values1 = df[\"Country\"].unique()\n",
        "print(unique_values1.size)\n",
        "\n",
        "unique_values1 = df[\"Medal\"].unique()\n",
        "print(unique_values1.size)\n"
      ]
    },
    {
      "cell_type": "markdown",
      "metadata": {
        "id": "FWgnrlx4m2MF"
      },
      "source": [
        "___\n",
        "**14. Write a program to group the df DataFrame by the \"Country\" column and calculate the total number of medals for each country. Print the result.?**"
      ]
    },
    {
      "cell_type": "code",
      "execution_count": 27,
      "metadata": {
        "id": "fRVgoVKhm2MG"
      },
      "outputs": [
        {
          "name": "stdout",
          "output_type": "stream",
          "text": [
            "Country\n",
            "AFG      2\n",
            "AHO      1\n",
            "ALG     15\n",
            "ANZ     29\n",
            "ARG    259\n",
            "      ... \n",
            "VIE      2\n",
            "YUG    435\n",
            "ZAM      2\n",
            "ZIM     23\n",
            "ZZX     48\n",
            "Name: Medal, Length: 147, dtype: int64\n"
          ]
        }
      ],
      "source": [
        "medal_counts = df.groupby(\"Country\")[\"Medal\"].count()\n",
        "print(medal_counts)"
      ]
    },
    {
      "cell_type": "markdown",
      "metadata": {
        "id": "Kr2Yrim7m2MG"
      },
      "source": [
        "___\n",
        "**15. Write a program to sort the df DataFrame by the \"Year\" column in descending order and print the first 5 rows of the sorted DataFrame.?**"
      ]
    },
    {
      "cell_type": "code",
      "execution_count": 28,
      "metadata": {
        "id": "z7KZfXgxm2MG"
      },
      "outputs": [
        {
          "data": {
            "text/html": [
              "<div>\n",
              "<style scoped>\n",
              "    .dataframe tbody tr th:only-of-type {\n",
              "        vertical-align: middle;\n",
              "    }\n",
              "\n",
              "    .dataframe tbody tr th {\n",
              "        vertical-align: top;\n",
              "    }\n",
              "\n",
              "    .dataframe thead th {\n",
              "        text-align: right;\n",
              "    }\n",
              "</style>\n",
              "<table border=\"1\" class=\"dataframe\">\n",
              "  <thead>\n",
              "    <tr style=\"text-align: right;\">\n",
              "      <th></th>\n",
              "      <th>Year</th>\n",
              "      <th>City</th>\n",
              "      <th>Sport</th>\n",
              "      <th>Discipline</th>\n",
              "      <th>Participants</th>\n",
              "      <th>Country</th>\n",
              "      <th>Gender</th>\n",
              "      <th>Event</th>\n",
              "      <th>Medal</th>\n",
              "    </tr>\n",
              "  </thead>\n",
              "  <tbody>\n",
              "    <tr>\n",
              "      <th>31141</th>\n",
              "      <td>2012</td>\n",
              "      <td>London</td>\n",
              "      <td>Wrestling</td>\n",
              "      <td>Wrestling Freestyle</td>\n",
              "      <td>SORYAN REIHANPOUR, Hamid Mohammad</td>\n",
              "      <td>IRI</td>\n",
              "      <td>Men</td>\n",
              "      <td>Wg 55 KG</td>\n",
              "      <td>Gold</td>\n",
              "    </tr>\n",
              "    <tr>\n",
              "      <th>31143</th>\n",
              "      <td>2012</td>\n",
              "      <td>London</td>\n",
              "      <td>Wrestling</td>\n",
              "      <td>Wrestling Freestyle</td>\n",
              "      <td>MODOS, Peter</td>\n",
              "      <td>HUN</td>\n",
              "      <td>Men</td>\n",
              "      <td>Wg 55 KG</td>\n",
              "      <td>Bronze</td>\n",
              "    </tr>\n",
              "    <tr>\n",
              "      <th>31164</th>\n",
              "      <td>2012</td>\n",
              "      <td>London</td>\n",
              "      <td>Wrestling</td>\n",
              "      <td>Wrestling Freestyle</td>\n",
              "      <td>LIDBERG, Jimmy</td>\n",
              "      <td>SWE</td>\n",
              "      <td>Men</td>\n",
              "      <td>Wg 96 KG</td>\n",
              "      <td>Bronze</td>\n",
              "    </tr>\n",
              "    <tr>\n",
              "      <th>31163</th>\n",
              "      <td>2012</td>\n",
              "      <td>London</td>\n",
              "      <td>Wrestling</td>\n",
              "      <td>Wrestling Freestyle</td>\n",
              "      <td>ALEKSANYAN, Artur</td>\n",
              "      <td>ARM</td>\n",
              "      <td>Men</td>\n",
              "      <td>Wg 96 KG</td>\n",
              "      <td>Bronze</td>\n",
              "    </tr>\n",
              "    <tr>\n",
              "      <th>31162</th>\n",
              "      <td>2012</td>\n",
              "      <td>London</td>\n",
              "      <td>Wrestling</td>\n",
              "      <td>Wrestling Freestyle</td>\n",
              "      <td>TOTROV, Rustam</td>\n",
              "      <td>RUS</td>\n",
              "      <td>Men</td>\n",
              "      <td>Wg 96 KG</td>\n",
              "      <td>Silver</td>\n",
              "    </tr>\n",
              "  </tbody>\n",
              "</table>\n",
              "</div>"
            ],
            "text/plain": [
              "       Year    City      Sport           Discipline  \\\n",
              "31141  2012  London  Wrestling  Wrestling Freestyle   \n",
              "31143  2012  London  Wrestling  Wrestling Freestyle   \n",
              "31164  2012  London  Wrestling  Wrestling Freestyle   \n",
              "31163  2012  London  Wrestling  Wrestling Freestyle   \n",
              "31162  2012  London  Wrestling  Wrestling Freestyle   \n",
              "\n",
              "                            Participants Country Gender     Event   Medal  \n",
              "31141  SORYAN REIHANPOUR, Hamid Mohammad     IRI    Men  Wg 55 KG    Gold  \n",
              "31143                       MODOS, Peter     HUN    Men  Wg 55 KG  Bronze  \n",
              "31164                     LIDBERG, Jimmy     SWE    Men  Wg 96 KG  Bronze  \n",
              "31163                  ALEKSANYAN, Artur     ARM    Men  Wg 96 KG  Bronze  \n",
              "31162                     TOTROV, Rustam     RUS    Men  Wg 96 KG  Silver  "
            ]
          },
          "execution_count": 28,
          "metadata": {},
          "output_type": "execute_result"
        }
      ],
      "source": [
        "#Code here\n",
        "sorted_df = df.sort_values(by=['Year'], ascending=False)\n",
        "sorted_df.head(5)"
      ]
    },
    {
      "cell_type": "code",
      "execution_count": 29,
      "metadata": {},
      "outputs": [
        {
          "data": {
            "text/html": [
              "<div>\n",
              "<style scoped>\n",
              "    .dataframe tbody tr th:only-of-type {\n",
              "        vertical-align: middle;\n",
              "    }\n",
              "\n",
              "    .dataframe tbody tr th {\n",
              "        vertical-align: top;\n",
              "    }\n",
              "\n",
              "    .dataframe thead th {\n",
              "        text-align: right;\n",
              "    }\n",
              "</style>\n",
              "<table border=\"1\" class=\"dataframe\">\n",
              "  <thead>\n",
              "    <tr style=\"text-align: right;\">\n",
              "      <th></th>\n",
              "      <th>Year</th>\n",
              "      <th>City</th>\n",
              "      <th>Sport</th>\n",
              "      <th>Discipline</th>\n",
              "      <th>Participants</th>\n",
              "      <th>Country</th>\n",
              "      <th>Gender</th>\n",
              "      <th>Event</th>\n",
              "      <th>Medal</th>\n",
              "    </tr>\n",
              "  </thead>\n",
              "  <tbody>\n",
              "    <tr>\n",
              "      <th>0</th>\n",
              "      <td>1896</td>\n",
              "      <td>Athens</td>\n",
              "      <td>Aquatics</td>\n",
              "      <td>Swimming</td>\n",
              "      <td>HAJOS, Alfred</td>\n",
              "      <td>HUN</td>\n",
              "      <td>Men</td>\n",
              "      <td>100M Freestyle</td>\n",
              "      <td>Gold</td>\n",
              "    </tr>\n",
              "    <tr>\n",
              "      <th>1</th>\n",
              "      <td>1896</td>\n",
              "      <td>Athens</td>\n",
              "      <td>Aquatics</td>\n",
              "      <td>Swimming</td>\n",
              "      <td>HERSCHMANN, Otto</td>\n",
              "      <td>AUT</td>\n",
              "      <td>Men</td>\n",
              "      <td>100M Freestyle</td>\n",
              "      <td>Silver</td>\n",
              "    </tr>\n",
              "    <tr>\n",
              "      <th>2</th>\n",
              "      <td>1896</td>\n",
              "      <td>Athens</td>\n",
              "      <td>Aquatics</td>\n",
              "      <td>Swimming</td>\n",
              "      <td>DRIVAS, Dimitrios</td>\n",
              "      <td>GRE</td>\n",
              "      <td>Men</td>\n",
              "      <td>100M Freestyle For Sailors</td>\n",
              "      <td>Bronze</td>\n",
              "    </tr>\n",
              "    <tr>\n",
              "      <th>3</th>\n",
              "      <td>1896</td>\n",
              "      <td>Athens</td>\n",
              "      <td>Aquatics</td>\n",
              "      <td>Swimming</td>\n",
              "      <td>MALOKINIS, Ioannis</td>\n",
              "      <td>GRE</td>\n",
              "      <td>Men</td>\n",
              "      <td>100M Freestyle For Sailors</td>\n",
              "      <td>Gold</td>\n",
              "    </tr>\n",
              "    <tr>\n",
              "      <th>4</th>\n",
              "      <td>1896</td>\n",
              "      <td>Athens</td>\n",
              "      <td>Aquatics</td>\n",
              "      <td>Swimming</td>\n",
              "      <td>CHASAPIS, Spiridon</td>\n",
              "      <td>GRE</td>\n",
              "      <td>Men</td>\n",
              "      <td>100M Freestyle For Sailors</td>\n",
              "      <td>Silver</td>\n",
              "    </tr>\n",
              "    <tr>\n",
              "      <th>...</th>\n",
              "      <td>...</td>\n",
              "      <td>...</td>\n",
              "      <td>...</td>\n",
              "      <td>...</td>\n",
              "      <td>...</td>\n",
              "      <td>...</td>\n",
              "      <td>...</td>\n",
              "      <td>...</td>\n",
              "      <td>...</td>\n",
              "    </tr>\n",
              "    <tr>\n",
              "      <th>31160</th>\n",
              "      <td>2012</td>\n",
              "      <td>London</td>\n",
              "      <td>Wrestling</td>\n",
              "      <td>Wrestling Freestyle</td>\n",
              "      <td>JANIKOWSKI, Damian</td>\n",
              "      <td>POL</td>\n",
              "      <td>Men</td>\n",
              "      <td>Wg 84 KG</td>\n",
              "      <td>Bronze</td>\n",
              "    </tr>\n",
              "    <tr>\n",
              "      <th>31161</th>\n",
              "      <td>2012</td>\n",
              "      <td>London</td>\n",
              "      <td>Wrestling</td>\n",
              "      <td>Wrestling Freestyle</td>\n",
              "      <td>REZAEI, Ghasem Gholamreza</td>\n",
              "      <td>IRI</td>\n",
              "      <td>Men</td>\n",
              "      <td>Wg 96 KG</td>\n",
              "      <td>Gold</td>\n",
              "    </tr>\n",
              "    <tr>\n",
              "      <th>31162</th>\n",
              "      <td>2012</td>\n",
              "      <td>London</td>\n",
              "      <td>Wrestling</td>\n",
              "      <td>Wrestling Freestyle</td>\n",
              "      <td>TOTROV, Rustam</td>\n",
              "      <td>RUS</td>\n",
              "      <td>Men</td>\n",
              "      <td>Wg 96 KG</td>\n",
              "      <td>Silver</td>\n",
              "    </tr>\n",
              "    <tr>\n",
              "      <th>31163</th>\n",
              "      <td>2012</td>\n",
              "      <td>London</td>\n",
              "      <td>Wrestling</td>\n",
              "      <td>Wrestling Freestyle</td>\n",
              "      <td>ALEKSANYAN, Artur</td>\n",
              "      <td>ARM</td>\n",
              "      <td>Men</td>\n",
              "      <td>Wg 96 KG</td>\n",
              "      <td>Bronze</td>\n",
              "    </tr>\n",
              "    <tr>\n",
              "      <th>31164</th>\n",
              "      <td>2012</td>\n",
              "      <td>London</td>\n",
              "      <td>Wrestling</td>\n",
              "      <td>Wrestling Freestyle</td>\n",
              "      <td>LIDBERG, Jimmy</td>\n",
              "      <td>SWE</td>\n",
              "      <td>Men</td>\n",
              "      <td>Wg 96 KG</td>\n",
              "      <td>Bronze</td>\n",
              "    </tr>\n",
              "  </tbody>\n",
              "</table>\n",
              "<p>31165 rows × 9 columns</p>\n",
              "</div>"
            ],
            "text/plain": [
              "       Year    City      Sport           Discipline  \\\n",
              "0      1896  Athens   Aquatics             Swimming   \n",
              "1      1896  Athens   Aquatics             Swimming   \n",
              "2      1896  Athens   Aquatics             Swimming   \n",
              "3      1896  Athens   Aquatics             Swimming   \n",
              "4      1896  Athens   Aquatics             Swimming   \n",
              "...     ...     ...        ...                  ...   \n",
              "31160  2012  London  Wrestling  Wrestling Freestyle   \n",
              "31161  2012  London  Wrestling  Wrestling Freestyle   \n",
              "31162  2012  London  Wrestling  Wrestling Freestyle   \n",
              "31163  2012  London  Wrestling  Wrestling Freestyle   \n",
              "31164  2012  London  Wrestling  Wrestling Freestyle   \n",
              "\n",
              "                    Participants Country Gender                       Event  \\\n",
              "0                  HAJOS, Alfred     HUN    Men              100M Freestyle   \n",
              "1               HERSCHMANN, Otto     AUT    Men              100M Freestyle   \n",
              "2              DRIVAS, Dimitrios     GRE    Men  100M Freestyle For Sailors   \n",
              "3             MALOKINIS, Ioannis     GRE    Men  100M Freestyle For Sailors   \n",
              "4             CHASAPIS, Spiridon     GRE    Men  100M Freestyle For Sailors   \n",
              "...                          ...     ...    ...                         ...   \n",
              "31160         JANIKOWSKI, Damian     POL    Men                    Wg 84 KG   \n",
              "31161  REZAEI, Ghasem Gholamreza     IRI    Men                    Wg 96 KG   \n",
              "31162             TOTROV, Rustam     RUS    Men                    Wg 96 KG   \n",
              "31163          ALEKSANYAN, Artur     ARM    Men                    Wg 96 KG   \n",
              "31164             LIDBERG, Jimmy     SWE    Men                    Wg 96 KG   \n",
              "\n",
              "        Medal  \n",
              "0        Gold  \n",
              "1      Silver  \n",
              "2      Bronze  \n",
              "3        Gold  \n",
              "4      Silver  \n",
              "...       ...  \n",
              "31160  Bronze  \n",
              "31161    Gold  \n",
              "31162  Silver  \n",
              "31163  Bronze  \n",
              "31164  Bronze  \n",
              "\n",
              "[31165 rows x 9 columns]"
            ]
          },
          "execution_count": 29,
          "metadata": {},
          "output_type": "execute_result"
        }
      ],
      "source": [
        "df"
      ]
    },
    {
      "cell_type": "markdown",
      "metadata": {
        "id": "h_C8jJjSm2MG"
      },
      "source": [
        "___\n",
        "**16. Write a program to add a new column \"Century\" to the df DataFrame. Classify each event as occurring in the \"20th Century\" if the \"Year\" is less than 2000, or the \"21st Century\" if the \"Year\" is 2000 or later. Print the first 5 rows to verify the change.**"
      ]
    },
    {
      "cell_type": "code",
      "execution_count": 30,
      "metadata": {
        "id": "1-iS6bAim2MG"
      },
      "outputs": [
        {
          "name": "stdout",
          "output_type": "stream",
          "text": [
            "       Year    City      Sport           Discipline  \\\n",
            "0      1896  Athens   Aquatics             Swimming   \n",
            "1      1896  Athens   Aquatics             Swimming   \n",
            "2      1896  Athens   Aquatics             Swimming   \n",
            "3      1896  Athens   Aquatics             Swimming   \n",
            "4      1896  Athens   Aquatics             Swimming   \n",
            "...     ...     ...        ...                  ...   \n",
            "31160  2012  London  Wrestling  Wrestling Freestyle   \n",
            "31161  2012  London  Wrestling  Wrestling Freestyle   \n",
            "31162  2012  London  Wrestling  Wrestling Freestyle   \n",
            "31163  2012  London  Wrestling  Wrestling Freestyle   \n",
            "31164  2012  London  Wrestling  Wrestling Freestyle   \n",
            "\n",
            "                    Participants Country Gender                       Event  \\\n",
            "0                  HAJOS, Alfred     HUN    Men              100M Freestyle   \n",
            "1               HERSCHMANN, Otto     AUT    Men              100M Freestyle   \n",
            "2              DRIVAS, Dimitrios     GRE    Men  100M Freestyle For Sailors   \n",
            "3             MALOKINIS, Ioannis     GRE    Men  100M Freestyle For Sailors   \n",
            "4             CHASAPIS, Spiridon     GRE    Men  100M Freestyle For Sailors   \n",
            "...                          ...     ...    ...                         ...   \n",
            "31160         JANIKOWSKI, Damian     POL    Men                    Wg 84 KG   \n",
            "31161  REZAEI, Ghasem Gholamreza     IRI    Men                    Wg 96 KG   \n",
            "31162             TOTROV, Rustam     RUS    Men                    Wg 96 KG   \n",
            "31163          ALEKSANYAN, Artur     ARM    Men                    Wg 96 KG   \n",
            "31164             LIDBERG, Jimmy     SWE    Men                    Wg 96 KG   \n",
            "\n",
            "        Medal       Century  \n",
            "0        Gold  20th Century  \n",
            "1      Silver  20th Century  \n",
            "2      Bronze  20th Century  \n",
            "3        Gold  20th Century  \n",
            "4      Silver  20th Century  \n",
            "...       ...           ...  \n",
            "31160  Bronze  21st Century  \n",
            "31161    Gold  21st Century  \n",
            "31162  Silver  21st Century  \n",
            "31163  Bronze  21st Century  \n",
            "31164  Bronze  21st Century  \n",
            "\n",
            "[31165 rows x 10 columns]\n"
          ]
        }
      ],
      "source": [
        "def get_century(year):\n",
        "    if year <= 2000:\n",
        "        return \"20th Century\"\n",
        "    elif 2000 < year <= 2100:\n",
        "        return \"21st Century\"\n",
        "    else:\n",
        "        return \"22nd Century\"\n",
        "\n",
        "df[\"Century\"] = df[\"Year\"].apply(get_century)\n",
        "\n",
        "print(df)"
      ]
    },
    {
      "cell_type": "markdown",
      "metadata": {
        "id": "BHc07ICSm2MH"
      },
      "source": [
        "___\n",
        "**17. Write a program to filter and print rows from the df DataFrame where the \"Country\" is \"USA\" and the \"Medal\" is \"Gold\". Also, count the number of rows that meet this condition.**"
      ]
    },
    {
      "cell_type": "code",
      "execution_count": 31,
      "metadata": {
        "id": "m7C99lk_m2MH"
      },
      "outputs": [
        {
          "name": "stdout",
          "output_type": "stream",
          "text": [
            "       Year    City       Sport           Discipline  \\\n",
            "13     1896  Athens   Athletics            Athletics   \n",
            "15     1896  Athens   Athletics            Athletics   \n",
            "21     1896  Athens   Athletics            Athletics   \n",
            "27     1896  Athens   Athletics            Athletics   \n",
            "29     1896  Athens   Athletics            Athletics   \n",
            "...     ...     ...         ...                  ...   \n",
            "30955  2012  London      Tennis               Tennis   \n",
            "30970  2012  London  Volleyball     Beach Volleyball   \n",
            "30971  2012  London  Volleyball     Beach Volleyball   \n",
            "31125  2012  London   Wrestling  Wrestling Freestyle   \n",
            "31133  2012  London   Wrestling  Wrestling Freestyle   \n",
            "\n",
            "                   Participants Country Gender             Event Medal  \\\n",
            "13                BURKE, Thomas     USA    Men              100M  Gold   \n",
            "15               CURTIS, Thomas     USA    Men      110M Hurdles  Gold   \n",
            "21                BURKE, Thomas     USA    Men              400M  Gold   \n",
            "27              GARRETT, Robert     USA    Men      Discus Throw  Gold   \n",
            "29                CLARK, Ellery     USA    Men         High Jump  Gold   \n",
            "...                         ...     ...    ...               ...   ...   \n",
            "30955          WILLIAMS, Serena     USA  Women           Singles  Gold   \n",
            "30970                MAY, Misty     USA  Women  Beach Volleyball  Gold   \n",
            "30971     WALSH JENNINGS, Kerri     USA  Women  Beach Volleyball  Gold   \n",
            "31125  BURROUGHS, Jordan Ernest     USA    Men          Wf 74 KG  Gold   \n",
            "31133     VARNER, Jacob Stephen     USA    Men          Wf 96 KG  Gold   \n",
            "\n",
            "            Century  \n",
            "13     20th Century  \n",
            "15     20th Century  \n",
            "21     20th Century  \n",
            "27     20th Century  \n",
            "29     20th Century  \n",
            "...             ...  \n",
            "30955  21st Century  \n",
            "30970  21st Century  \n",
            "30971  21st Century  \n",
            "31125  21st Century  \n",
            "31133  21st Century  \n",
            "\n",
            "[2235 rows x 10 columns]\n"
          ]
        }
      ],
      "source": [
        "#Code here\n",
        "filtered_df = df[(df['Country'] == 'USA') & (df['Medal'] == 'Gold')]\n",
        "print(filtered_df)"
      ]
    },
    {
      "cell_type": "code",
      "execution_count": 32,
      "metadata": {},
      "outputs": [
        {
          "name": "stdout",
          "output_type": "stream",
          "text": [
            "2235\n"
          ]
        }
      ],
      "source": [
        "print(len(filtered_df))"
      ]
    },
    {
      "cell_type": "markdown",
      "metadata": {
        "id": "MhnhQ1Erm2MH"
      },
      "source": [
        "___\n",
        "**18. Write a program to create a new column \"Medal Points\" in the df DataFrame. Assign 3 points for \"Gold\", 2 points for \"Silver\", and 1 point for \"Bronze\". Print the first 5 rows to verify the changes.**"
      ]
    },
    {
      "cell_type": "code",
      "execution_count": 33,
      "metadata": {
        "id": "6f_CLPsom2MH"
      },
      "outputs": [
        {
          "data": {
            "text/html": [
              "<div>\n",
              "<style scoped>\n",
              "    .dataframe tbody tr th:only-of-type {\n",
              "        vertical-align: middle;\n",
              "    }\n",
              "\n",
              "    .dataframe tbody tr th {\n",
              "        vertical-align: top;\n",
              "    }\n",
              "\n",
              "    .dataframe thead th {\n",
              "        text-align: right;\n",
              "    }\n",
              "</style>\n",
              "<table border=\"1\" class=\"dataframe\">\n",
              "  <thead>\n",
              "    <tr style=\"text-align: right;\">\n",
              "      <th></th>\n",
              "      <th>Year</th>\n",
              "      <th>City</th>\n",
              "      <th>Sport</th>\n",
              "      <th>Discipline</th>\n",
              "      <th>Participants</th>\n",
              "      <th>Country</th>\n",
              "      <th>Gender</th>\n",
              "      <th>Event</th>\n",
              "      <th>Medal</th>\n",
              "      <th>Century</th>\n",
              "      <th>Medal Points</th>\n",
              "    </tr>\n",
              "  </thead>\n",
              "  <tbody>\n",
              "    <tr>\n",
              "      <th>0</th>\n",
              "      <td>1896</td>\n",
              "      <td>Athens</td>\n",
              "      <td>Aquatics</td>\n",
              "      <td>Swimming</td>\n",
              "      <td>HAJOS, Alfred</td>\n",
              "      <td>HUN</td>\n",
              "      <td>Men</td>\n",
              "      <td>100M Freestyle</td>\n",
              "      <td>Gold</td>\n",
              "      <td>20th Century</td>\n",
              "      <td>3</td>\n",
              "    </tr>\n",
              "    <tr>\n",
              "      <th>1</th>\n",
              "      <td>1896</td>\n",
              "      <td>Athens</td>\n",
              "      <td>Aquatics</td>\n",
              "      <td>Swimming</td>\n",
              "      <td>HERSCHMANN, Otto</td>\n",
              "      <td>AUT</td>\n",
              "      <td>Men</td>\n",
              "      <td>100M Freestyle</td>\n",
              "      <td>Silver</td>\n",
              "      <td>20th Century</td>\n",
              "      <td>2</td>\n",
              "    </tr>\n",
              "    <tr>\n",
              "      <th>2</th>\n",
              "      <td>1896</td>\n",
              "      <td>Athens</td>\n",
              "      <td>Aquatics</td>\n",
              "      <td>Swimming</td>\n",
              "      <td>DRIVAS, Dimitrios</td>\n",
              "      <td>GRE</td>\n",
              "      <td>Men</td>\n",
              "      <td>100M Freestyle For Sailors</td>\n",
              "      <td>Bronze</td>\n",
              "      <td>20th Century</td>\n",
              "      <td>1</td>\n",
              "    </tr>\n",
              "    <tr>\n",
              "      <th>3</th>\n",
              "      <td>1896</td>\n",
              "      <td>Athens</td>\n",
              "      <td>Aquatics</td>\n",
              "      <td>Swimming</td>\n",
              "      <td>MALOKINIS, Ioannis</td>\n",
              "      <td>GRE</td>\n",
              "      <td>Men</td>\n",
              "      <td>100M Freestyle For Sailors</td>\n",
              "      <td>Gold</td>\n",
              "      <td>20th Century</td>\n",
              "      <td>3</td>\n",
              "    </tr>\n",
              "    <tr>\n",
              "      <th>4</th>\n",
              "      <td>1896</td>\n",
              "      <td>Athens</td>\n",
              "      <td>Aquatics</td>\n",
              "      <td>Swimming</td>\n",
              "      <td>CHASAPIS, Spiridon</td>\n",
              "      <td>GRE</td>\n",
              "      <td>Men</td>\n",
              "      <td>100M Freestyle For Sailors</td>\n",
              "      <td>Silver</td>\n",
              "      <td>20th Century</td>\n",
              "      <td>2</td>\n",
              "    </tr>\n",
              "  </tbody>\n",
              "</table>\n",
              "</div>"
            ],
            "text/plain": [
              "   Year    City     Sport Discipline        Participants Country Gender  \\\n",
              "0  1896  Athens  Aquatics   Swimming       HAJOS, Alfred     HUN    Men   \n",
              "1  1896  Athens  Aquatics   Swimming    HERSCHMANN, Otto     AUT    Men   \n",
              "2  1896  Athens  Aquatics   Swimming   DRIVAS, Dimitrios     GRE    Men   \n",
              "3  1896  Athens  Aquatics   Swimming  MALOKINIS, Ioannis     GRE    Men   \n",
              "4  1896  Athens  Aquatics   Swimming  CHASAPIS, Spiridon     GRE    Men   \n",
              "\n",
              "                        Event   Medal       Century  Medal Points  \n",
              "0              100M Freestyle    Gold  20th Century             3  \n",
              "1              100M Freestyle  Silver  20th Century             2  \n",
              "2  100M Freestyle For Sailors  Bronze  20th Century             1  \n",
              "3  100M Freestyle For Sailors    Gold  20th Century             3  \n",
              "4  100M Freestyle For Sailors  Silver  20th Century             2  "
            ]
          },
          "execution_count": 33,
          "metadata": {},
          "output_type": "execute_result"
        }
      ],
      "source": [
        "#Code here\n",
        "medal_points = {'Gold': 3,'Silver': 2,'Bronze': 1}\n",
        "df['Medal Points'] = df['Medal'].map(medal_points)\n",
        "df.head()"
      ]
    },
    {
      "cell_type": "markdown",
      "metadata": {
        "id": "_w8CAZoGm2MH"
      },
      "source": [
        "___\n",
        "**19. Write a program to filter the df DataFrame to include only rows where the \"Country\" is \"USA\". Then, group the filtered DataFrame by \"Year\" and calculate the total number of medals won by the USA each year. Print the results.**"
      ]
    },
    {
      "cell_type": "code",
      "execution_count": 34,
      "metadata": {
        "id": "PZwGcKaEm2MH"
      },
      "outputs": [
        {
          "name": "stdout",
          "output_type": "stream",
          "text": [
            "    Year  Total Medals\n",
            "0   1896            20\n",
            "1   1900            55\n",
            "2   1904           394\n",
            "3   1908            63\n",
            "4   1912           101\n",
            "5   1920           193\n",
            "6   1924           198\n",
            "7   1928            84\n",
            "8   1932           181\n",
            "9   1936            92\n",
            "10  1948           148\n",
            "11  1952           130\n",
            "12  1956           118\n",
            "13  1960           112\n",
            "14  1964           150\n",
            "15  1968           149\n",
            "16  1972           155\n",
            "17  1976           155\n",
            "18  1984           333\n",
            "19  1988           193\n",
            "20  1992           224\n",
            "21  1996           260\n",
            "22  2000           248\n",
            "23  2004           264\n",
            "24  2008           315\n",
            "25  2012           250\n",
            "Year 1896: 20 medals\n",
            "Year 1900: 55 medals\n",
            "Year 1904: 394 medals\n",
            "Year 1908: 63 medals\n",
            "Year 1912: 101 medals\n",
            "Year 1920: 193 medals\n",
            "Year 1924: 198 medals\n",
            "Year 1928: 84 medals\n",
            "Year 1932: 181 medals\n",
            "Year 1936: 92 medals\n",
            "Year 1948: 148 medals\n",
            "Year 1952: 130 medals\n",
            "Year 1956: 118 medals\n",
            "Year 1960: 112 medals\n",
            "Year 1964: 150 medals\n",
            "Year 1968: 149 medals\n",
            "Year 1972: 155 medals\n",
            "Year 1976: 155 medals\n",
            "Year 1984: 333 medals\n",
            "Year 1988: 193 medals\n",
            "Year 1992: 224 medals\n",
            "Year 1996: 260 medals\n",
            "Year 2000: 248 medals\n",
            "Year 2004: 264 medals\n",
            "Year 2008: 315 medals\n",
            "Year 2012: 250 medals\n"
          ]
        }
      ],
      "source": [
        "#Code here\n",
        "# Filter rows for USA\n",
        "usa_df = df[df['Country'] == 'USA']\n",
        "medals_by_year = usa_df.groupby('Year').size().reset_index(name='Total Medals')\n",
        "print(medals_by_year)\n",
        "for _, row in medals_by_year.iterrows():\n",
        "    print(f\"Year {row['Year']}: {row['Total Medals']} medals\")"
      ]
    },
    {
      "cell_type": "markdown",
      "metadata": {
        "id": "Fo3Zq-mTm2MH"
      },
      "source": [
        "___\n",
        "**20. Write a program to identify the athlete who has won the most medals. Display the athlete's name and the total number of medals they have won.**"
      ]
    },
    {
      "cell_type": "code",
      "execution_count": 35,
      "metadata": {
        "id": "qF5-f6sKm2MH"
      },
      "outputs": [
        {
          "name": "stdout",
          "output_type": "stream",
          "text": [
            "Sport : Aquatics, Medal : Bronze, Count : 1365\n",
            "Sport : Aquatics, Medal : Gold, Count : 1421\n",
            "Sport : Aquatics, Medal : Silver, Count : 1384\n",
            "Sport : Archery, Medal : Bronze, Count : 90\n",
            "Sport : Archery, Medal : Gold, Count : 126\n",
            "Sport : Archery, Medal : Silver, Count : 113\n",
            "Sport : Athletics, Medal : Bronze, Count : 1199\n",
            "Sport : Athletics, Medal : Gold, Count : 1215\n",
            "Sport : Athletics, Medal : Silver, Count : 1224\n",
            "Sport : Badminton, Medal : Bronze, Count : 52\n",
            "Sport : Badminton, Medal : Gold, Count : 46\n",
            "Sport : Badminton, Medal : Silver, Count : 46\n",
            "Sport : Baseball, Medal : Bronze, Count : 112\n",
            "Sport : Baseball, Medal : Gold, Count : 111\n",
            "Sport : Baseball, Medal : Silver, Count : 112\n",
            "Sport : Basketball, Medal : Bronze, Count : 334\n",
            "Sport : Basketball, Medal : Gold, Count : 342\n",
            "Sport : Basketball, Medal : Silver, Count : 336\n",
            "Sport : Basque Pelota, Medal : Gold, Count : 2\n",
            "Sport : Basque Pelota, Medal : Silver, Count : 2\n",
            "Sport : Boxing, Medal : Bronze, Count : 416\n",
            "Sport : Boxing, Medal : Gold, Count : 239\n",
            "Sport : Boxing, Medal : Silver, Count : 239\n",
            "Sport : Canoe, Medal : Bronze, Count : 27\n",
            "Sport : Canoe, Medal : Gold, Count : 27\n",
            "Sport : Canoe, Medal : Silver, Count : 27\n",
            "Sport : Canoe / Kayak, Medal : Bronze, Count : 334\n",
            "Sport : Canoe / Kayak, Medal : Gold, Count : 334\n",
            "Sport : Canoe / Kayak, Medal : Silver, Count : 334\n",
            "Sport : Cricket, Medal : Gold, Count : 12\n",
            "Sport : Cricket, Medal : Silver, Count : 12\n",
            "Sport : Croquet, Medal : Bronze, Count : 2\n",
            "Sport : Croquet, Medal : Gold, Count : 4\n",
            "Sport : Croquet, Medal : Silver, Count : 2\n",
            "Sport : Cycling, Medal : Bronze, Count : 365\n",
            "Sport : Cycling, Medal : Gold, Count : 371\n",
            "Sport : Cycling, Medal : Silver, Count : 369\n",
            "Sport : Equestrian, Medal : Bronze, Count : 306\n",
            "Sport : Equestrian, Medal : Gold, Count : 320\n",
            "Sport : Equestrian, Medal : Silver, Count : 313\n",
            "Sport : Fencing, Medal : Bronze, Count : 519\n",
            "Sport : Fencing, Medal : Gold, Count : 552\n",
            "Sport : Fencing, Medal : Silver, Count : 542\n",
            "Sport : Football, Medal : Bronze, Count : 509\n",
            "Sport : Football, Medal : Gold, Count : 503\n",
            "Sport : Football, Medal : Silver, Count : 485\n",
            "Sport : Golf, Medal : Bronze, Count : 4\n",
            "Sport : Golf, Medal : Gold, Count : 13\n",
            "Sport : Golf, Medal : Silver, Count : 13\n",
            "Sport : Gymnastics, Medal : Bronze, Count : 731\n",
            "Sport : Gymnastics, Medal : Gold, Count : 820\n",
            "Sport : Gymnastics, Medal : Silver, Count : 756\n",
            "Sport : Handball, Medal : Bronze, Count : 323\n",
            "Sport : Handball, Medal : Gold, Count : 321\n",
            "Sport : Handball, Medal : Silver, Count : 329\n",
            "Sport : Hockey, Medal : Bronze, Count : 459\n",
            "Sport : Hockey, Medal : Gold, Count : 486\n",
            "Sport : Hockey, Medal : Silver, Count : 477\n",
            "Sport : Ice Hockey, Medal : Bronze, Count : 8\n",
            "Sport : Ice Hockey, Medal : Gold, Count : 8\n",
            "Sport : Ice Hockey, Medal : Silver, Count : 11\n",
            "Sport : Jeu de paume, Medal : Bronze, Count : 1\n",
            "Sport : Jeu de paume, Medal : Gold, Count : 1\n",
            "Sport : Jeu de paume, Medal : Silver, Count : 1\n",
            "Sport : Judo, Medal : Bronze, Count : 246\n",
            "Sport : Judo, Medal : Gold, Count : 123\n",
            "Sport : Judo, Medal : Silver, Count : 122\n",
            "Sport : Lacrosse, Medal : Gold, Count : 28\n",
            "Sport : Lacrosse, Medal : Silver, Count : 31\n",
            "Sport : Modern Pentathlon, Medal : Bronze, Count : 60\n",
            "Sport : Modern Pentathlon, Medal : Gold, Count : 60\n",
            "Sport : Modern Pentathlon, Medal : Silver, Count : 60\n",
            "Sport : Polo, Medal : Bronze, Count : 17\n",
            "Sport : Polo, Medal : Gold, Count : 22\n",
            "Sport : Polo, Medal : Silver, Count : 27\n",
            "Sport : Rackets, Medal : Bronze, Count : 4\n",
            "Sport : Rackets, Medal : Gold, Count : 3\n",
            "Sport : Rackets, Medal : Silver, Count : 3\n",
            "Sport : Roque, Medal : Bronze, Count : 1\n",
            "Sport : Roque, Medal : Gold, Count : 1\n",
            "Sport : Roque, Medal : Silver, Count : 1\n",
            "Sport : Rowing, Medal : Bronze, Count : 888\n",
            "Sport : Rowing, Medal : Gold, Count : 890\n",
            "Sport : Rowing, Medal : Silver, Count : 889\n",
            "Sport : Rugby, Medal : Bronze, Count : 23\n",
            "Sport : Rugby, Medal : Gold, Count : 78\n",
            "Sport : Rugby, Medal : Silver, Count : 91\n",
            "Sport : Sailing, Medal : Bronze, Count : 325\n",
            "Sport : Sailing, Medal : Gold, Count : 412\n",
            "Sport : Sailing, Medal : Silver, Count : 372\n",
            "Sport : Shooting, Medal : Bronze, Count : 380\n",
            "Sport : Shooting, Medal : Gold, Count : 384\n",
            "Sport : Shooting, Medal : Silver, Count : 386\n",
            "Sport : Skating, Medal : Bronze, Count : 9\n",
            "Sport : Skating, Medal : Gold, Count : 9\n",
            "Sport : Skating, Medal : Silver, Count : 9\n",
            "Sport : Softball, Medal : Bronze, Count : 60\n",
            "Sport : Softball, Medal : Gold, Count : 60\n",
            "Sport : Softball, Medal : Silver, Count : 60\n",
            "Sport : Table Tennis, Medal : Bronze, Count : 52\n",
            "Sport : Table Tennis, Medal : Gold, Count : 46\n",
            "Sport : Table Tennis, Medal : Silver, Count : 46\n",
            "Sport : Taekwondo, Medal : Bronze, Count : 48\n",
            "Sport : Taekwondo, Medal : Gold, Count : 32\n",
            "Sport : Taekwondo, Medal : Silver, Count : 32\n",
            "Sport : Tennis, Medal : Bronze, Count : 114\n",
            "Sport : Tennis, Medal : Gold, Count : 92\n",
            "Sport : Tennis, Medal : Silver, Count : 90\n",
            "Sport : Triathlon, Medal : Bronze, Count : 8\n",
            "Sport : Triathlon, Medal : Gold, Count : 8\n",
            "Sport : Triathlon, Medal : Silver, Count : 8\n",
            "Sport : Tug of War, Medal : Bronze, Count : 22\n",
            "Sport : Tug of War, Medal : Gold, Count : 36\n",
            "Sport : Tug of War, Medal : Silver, Count : 36\n",
            "Sport : Volleyball, Medal : Bronze, Count : 331\n",
            "Sport : Volleyball, Medal : Gold, Count : 332\n",
            "Sport : Volleyball, Medal : Silver, Count : 331\n",
            "Sport : Water Motorsports, Medal : Gold, Count : 5\n",
            "Sport : Weightlifting, Medal : Bronze, Count : 197\n",
            "Sport : Weightlifting, Medal : Gold, Count : 200\n",
            "Sport : Weightlifting, Medal : Silver, Count : 196\n",
            "Sport : Wrestling, Medal : Bronze, Count : 428\n",
            "Sport : Wrestling, Medal : Gold, Count : 391\n",
            "Sport : Wrestling, Medal : Silver, Count : 393\n"
          ]
        }
      ],
      "source": [
        "#Code here\n",
        "medals_by_sport = df.groupby([\"Sport\", \"Medal\"]).size()\n",
        "for i,j in medals_by_sport.items():\n",
        "    print(f\"Sport : {i[0]}, Medal : {i[1]}, Count : {j}\")\n"
      ]
    },
    {
      "cell_type": "markdown",
      "metadata": {
        "id": "QPwEMGiOm2MH"
      },
      "source": [
        "___\n",
        "**21. Write a program to group the df DataFrame by the \"Sport\" column and calculate the number of each type of medal (Gold, Silver, Bronze) for each sport. Print the results.**"
      ]
    },
    {
      "cell_type": "code",
      "execution_count": 36,
      "metadata": {
        "id": "L7LEmyW8m2MH"
      },
      "outputs": [
        {
          "name": "stdout",
          "output_type": "stream",
          "text": [
            "Athlete with maximum medals: PHELPS, Michael\n",
            "Medals Earned: 22\n"
          ]
        }
      ],
      "source": [
        "#Code here\n",
        "athlete_medal=df.groupby(\"Participants\")[\"Medal\"].count()\n",
        "top_athlete=athlete_medal.idxmax()\n",
        "max_medal=athlete_medal.max()\n",
        "print(\"Athlete with maximum medals:\",top_athlete)\n",
        "print(\"Medals Earned:\",max_medal)"
      ]
    },
    {
      "cell_type": "markdown",
      "metadata": {
        "id": "pBOrlEawm2MH"
      },
      "source": [
        "### Good Luck!"
      ]
    }
  ],
  "metadata": {
    "colab": {
      "provenance": []
    },
    "kernelspec": {
      "display_name": "Python 3",
      "language": "python",
      "name": "python3"
    },
    "language_info": {
      "codemirror_mode": {
        "name": "ipython",
        "version": 3
      },
      "file_extension": ".py",
      "mimetype": "text/x-python",
      "name": "python",
      "nbconvert_exporter": "python",
      "pygments_lexer": "ipython3",
      "version": "3.13.1"
    }
  },
  "nbformat": 4,
  "nbformat_minor": 0
}
