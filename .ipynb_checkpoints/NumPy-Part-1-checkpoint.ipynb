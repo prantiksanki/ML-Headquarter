{
 "cells": [
  {
   "cell_type": "code",
   "execution_count": 1,
   "id": "eac81d41-91d9-4316-983e-b007bf438bd7",
   "metadata": {},
   "outputs": [],
   "source": [
    "import numpy as np"
   ]
  },
  {
   "cell_type": "code",
   "execution_count": 2,
   "id": "60c2e4c0-e209-4aea-94a6-17d1150c40e0",
   "metadata": {},
   "outputs": [],
   "source": [
    "myArr = np.array([3,6,32,7] , np.int8)"
   ]
  },
  {
   "cell_type": "code",
   "execution_count": 3,
   "id": "d422b2d9-5513-4ab8-a3dd-045d935c7d8d",
   "metadata": {},
   "outputs": [
    {
     "data": {
      "text/plain": [
       "array([ 3,  6, 32,  7], dtype=int8)"
      ]
     },
     "execution_count": 3,
     "metadata": {},
     "output_type": "execute_result"
    }
   ],
   "source": [
    "myArr"
   ]
  },
  {
   "cell_type": "code",
   "execution_count": 4,
   "id": "ebee390f-e110-4fc3-893d-48f223725d7c",
   "metadata": {},
   "outputs": [
    {
     "data": {
      "text/plain": [
       "np.int8(3)"
      ]
     },
     "execution_count": 4,
     "metadata": {},
     "output_type": "execute_result"
    }
   ],
   "source": [
    "myArr[0]\n"
   ]
  },
  {
   "cell_type": "code",
   "execution_count": 5,
   "id": "a96cf16c-81f2-4fe5-910d-274cedb87b9a",
   "metadata": {},
   "outputs": [
    {
     "data": {
      "text/plain": [
       "(4,)"
      ]
     },
     "execution_count": 5,
     "metadata": {},
     "output_type": "execute_result"
    }
   ],
   "source": [
    "myArr.shape"
   ]
  },
  {
   "cell_type": "code",
   "execution_count": 6,
   "id": "1c7eddfd-b68e-4862-b315-5b31c6ddebc1",
   "metadata": {},
   "outputs": [
    {
     "data": {
      "text/plain": [
       "dtype('int8')"
      ]
     },
     "execution_count": 6,
     "metadata": {},
     "output_type": "execute_result"
    }
   ],
   "source": [
    "myArr.dtype"
   ]
  },
  {
   "cell_type": "code",
   "execution_count": 7,
   "id": "f31d8ad1-0d6e-4a3e-8b48-cdb11ffcf5d3",
   "metadata": {},
   "outputs": [],
   "source": [
    "# Array creating method\n",
    "listarr = np.array ([[1,2,3] , [4,5,6] , [7,8,9]])\n"
   ]
  },
  {
   "cell_type": "code",
   "execution_count": 8,
   "id": "935ee41f-ea96-4140-9158-f9edd2d4b95f",
   "metadata": {},
   "outputs": [
    {
     "data": {
      "text/plain": [
       "array([[1, 2, 3],\n",
       "       [4, 5, 6],\n",
       "       [7, 8, 9]])"
      ]
     },
     "execution_count": 8,
     "metadata": {},
     "output_type": "execute_result"
    }
   ],
   "source": [
    "listarr\n"
   ]
  },
  {
   "cell_type": "code",
   "execution_count": 9,
   "id": "8fd71b7e-8f96-44b8-9633-181ccd7c29e5",
   "metadata": {},
   "outputs": [
    {
     "data": {
      "text/plain": [
       "9"
      ]
     },
     "execution_count": 9,
     "metadata": {},
     "output_type": "execute_result"
    }
   ],
   "source": [
    "listarr.size"
   ]
  },
  {
   "cell_type": "code",
   "execution_count": 10,
   "id": "502f68f9-7a37-41f6-91b2-fa4af83e582f",
   "metadata": {},
   "outputs": [
    {
     "data": {
      "text/plain": [
       "(3, 3)"
      ]
     },
     "execution_count": 10,
     "metadata": {},
     "output_type": "execute_result"
    }
   ],
   "source": [
    "listarr.shape"
   ]
  },
  {
   "cell_type": "code",
   "execution_count": 11,
   "id": "d7fde1fe-7ebb-4966-aa89-374ec497f0a5",
   "metadata": {},
   "outputs": [
    {
     "data": {
      "text/plain": [
       "dtype('int64')"
      ]
     },
     "execution_count": 11,
     "metadata": {},
     "output_type": "execute_result"
    }
   ],
   "source": [
    "listarr.dtype"
   ]
  },
  {
   "cell_type": "code",
   "execution_count": 12,
   "id": "f42cbdc4-d0db-4142-aadb-328ac2538f2a",
   "metadata": {},
   "outputs": [],
   "source": [
    "zeros = np.zeros((2,5))"
   ]
  },
  {
   "cell_type": "code",
   "execution_count": 13,
   "id": "d03dfad6-d831-4e7a-ac04-4d6a7d0b09a1",
   "metadata": {},
   "outputs": [
    {
     "data": {
      "text/plain": [
       "array([[0., 0., 0., 0., 0.],\n",
       "       [0., 0., 0., 0., 0.]])"
      ]
     },
     "execution_count": 13,
     "metadata": {},
     "output_type": "execute_result"
    }
   ],
   "source": [
    "zeros"
   ]
  },
  {
   "cell_type": "code",
   "execution_count": 14,
   "id": "52fcacb1-5c06-446c-baf9-b16527d34676",
   "metadata": {},
   "outputs": [
    {
     "data": {
      "text/plain": [
       "dtype('float64')"
      ]
     },
     "execution_count": 14,
     "metadata": {},
     "output_type": "execute_result"
    }
   ],
   "source": [
    "zeros.dtype"
   ]
  },
  {
   "cell_type": "code",
   "execution_count": 15,
   "id": "a7bac553-b7ab-424e-ad01-df2b62d9d761",
   "metadata": {},
   "outputs": [],
   "source": [
    "rng = np.arange(15)"
   ]
  },
  {
   "cell_type": "code",
   "execution_count": 16,
   "id": "c86eda81-b9e9-49c9-98a1-3054192a46ab",
   "metadata": {},
   "outputs": [
    {
     "data": {
      "text/plain": [
       "array([ 0,  1,  2,  3,  4,  5,  6,  7,  8,  9, 10, 11, 12, 13, 14])"
      ]
     },
     "execution_count": 16,
     "metadata": {},
     "output_type": "execute_result"
    }
   ],
   "source": [
    "rng"
   ]
  },
  {
   "cell_type": "code",
   "execution_count": 17,
   "id": "3b509cac-1823-40ff-93aa-625c07cadd3c",
   "metadata": {},
   "outputs": [],
   "source": [
    "# 20 equally spaced no generated from 1 to 50 \n",
    "lspace = np.linspace(1,50,20)\n"
   ]
  },
  {
   "cell_type": "code",
   "execution_count": 18,
   "id": "89304f4f-aed1-4608-b1f6-85d219814e9f",
   "metadata": {},
   "outputs": [
    {
     "data": {
      "text/plain": [
       "array([ 1.        ,  3.57894737,  6.15789474,  8.73684211, 11.31578947,\n",
       "       13.89473684, 16.47368421, 19.05263158, 21.63157895, 24.21052632,\n",
       "       26.78947368, 29.36842105, 31.94736842, 34.52631579, 37.10526316,\n",
       "       39.68421053, 42.26315789, 44.84210526, 47.42105263, 50.        ])"
      ]
     },
     "execution_count": 18,
     "metadata": {},
     "output_type": "execute_result"
    }
   ],
   "source": [
    "lspace"
   ]
  },
  {
   "cell_type": "code",
   "execution_count": 19,
   "id": "cb91ab2b-eb67-4d19-a9e9-7231c55a81bd",
   "metadata": {},
   "outputs": [],
   "source": [
    "emp = np.empty((4,10))"
   ]
  },
  {
   "cell_type": "code",
   "execution_count": 20,
   "id": "24916dfa-c1c2-4838-8a90-ae685b13aef3",
   "metadata": {},
   "outputs": [
    {
     "data": {
      "text/plain": [
       "array([[6.95292860e-310, 1.10941035e-311, 9.88131292e-324,\n",
       "        6.95292860e-310, 2.12199579e-314, 6.95292860e-310,\n",
       "        2.12199579e-314, 6.95292860e-310, 2.12199579e-314,\n",
       "        0.00000000e+000],\n",
       "       [0.00000000e+000, 2.12199579e-311,             nan,\n",
       "        2.12199579e-314, 4.94065646e-324, 4.94065646e-324,\n",
       "        0.00000000e+000, 1.10944736e-311, 1.10944718e-311,\n",
       "        2.12199579e-314],\n",
       "       [0.00000000e+000, 0.00000000e+000, 4.94065646e-324,\n",
       "        0.00000000e+000, 1.10941019e-311, 6.95292859e-310,\n",
       "        0.00000000e+000, 7.41098469e-323, 1.10941019e-311,\n",
       "        1.10944736e-311],\n",
       "       [0.00000000e+000, 7.41098469e-323, 4.94065646e-324,\n",
       "        0.00000000e+000, 0.00000000e+000, 0.00000000e+000,\n",
       "        0.00000000e+000, 0.00000000e+000, 0.00000000e+000,\n",
       "        0.00000000e+000]])"
      ]
     },
     "execution_count": 20,
     "metadata": {},
     "output_type": "execute_result"
    }
   ],
   "source": [
    "emp"
   ]
  },
  {
   "cell_type": "code",
   "execution_count": 21,
   "id": "5d672ba2-289a-45d9-837b-1ed383a57a8b",
   "metadata": {},
   "outputs": [],
   "source": [
    "emplike = np.empty_like(lspace)"
   ]
  },
  {
   "cell_type": "code",
   "execution_count": 22,
   "id": "ef407d67-2e88-4076-8f1a-a93c359a81f6",
   "metadata": {},
   "outputs": [
    {
     "data": {
      "text/plain": [
       "array([ 1.        ,  3.57894737,  6.15789474,  8.73684211, 11.31578947,\n",
       "       13.89473684, 16.47368421, 19.05263158, 21.63157895, 24.21052632,\n",
       "       26.78947368, 29.36842105, 31.94736842, 34.52631579, 37.10526316,\n",
       "       39.68421053, 42.26315789, 44.84210526, 47.42105263, 50.        ])"
      ]
     },
     "execution_count": 22,
     "metadata": {},
     "output_type": "execute_result"
    }
   ],
   "source": [
    "emplike"
   ]
  },
  {
   "cell_type": "code",
   "execution_count": 23,
   "id": "4fa1487a-9dcb-42e5-a897-a7e1c1208436",
   "metadata": {},
   "outputs": [],
   "source": [
    "ide = np.identity(45)\n"
   ]
  },
  {
   "cell_type": "code",
   "execution_count": 24,
   "id": "21592c49-5efe-4fb8-b29f-cb9a8daee686",
   "metadata": {},
   "outputs": [
    {
     "data": {
      "text/plain": [
       "array([[1., 0., 0., ..., 0., 0., 0.],\n",
       "       [0., 1., 0., ..., 0., 0., 0.],\n",
       "       [0., 0., 1., ..., 0., 0., 0.],\n",
       "       ...,\n",
       "       [0., 0., 0., ..., 1., 0., 0.],\n",
       "       [0., 0., 0., ..., 0., 1., 0.],\n",
       "       [0., 0., 0., ..., 0., 0., 1.]], shape=(45, 45))"
      ]
     },
     "execution_count": 24,
     "metadata": {},
     "output_type": "execute_result"
    }
   ],
   "source": [
    "ide"
   ]
  },
  {
   "cell_type": "code",
   "execution_count": 25,
   "id": "642c28d1-2a5e-435c-a3ee-19593efc951c",
   "metadata": {},
   "outputs": [
    {
     "data": {
      "text/plain": [
       "(45, 45)"
      ]
     },
     "execution_count": 25,
     "metadata": {},
     "output_type": "execute_result"
    }
   ],
   "source": [
    "ide.shape"
   ]
  },
  {
   "cell_type": "code",
   "execution_count": 26,
   "id": "58838d77-8682-43fd-92d8-581d7ea8053e",
   "metadata": {},
   "outputs": [],
   "source": [
    "arr = np.arange(99)"
   ]
  },
  {
   "cell_type": "code",
   "execution_count": 27,
   "id": "908d3b7d-8cfa-4fbd-8255-098437dc8ae5",
   "metadata": {},
   "outputs": [
    {
     "data": {
      "text/plain": [
       "array([ 0,  1,  2,  3,  4,  5,  6,  7,  8,  9, 10, 11, 12, 13, 14, 15, 16,\n",
       "       17, 18, 19, 20, 21, 22, 23, 24, 25, 26, 27, 28, 29, 30, 31, 32, 33,\n",
       "       34, 35, 36, 37, 38, 39, 40, 41, 42, 43, 44, 45, 46, 47, 48, 49, 50,\n",
       "       51, 52, 53, 54, 55, 56, 57, 58, 59, 60, 61, 62, 63, 64, 65, 66, 67,\n",
       "       68, 69, 70, 71, 72, 73, 74, 75, 76, 77, 78, 79, 80, 81, 82, 83, 84,\n",
       "       85, 86, 87, 88, 89, 90, 91, 92, 93, 94, 95, 96, 97, 98])"
      ]
     },
     "execution_count": 27,
     "metadata": {},
     "output_type": "execute_result"
    }
   ],
   "source": [
    "arr"
   ]
  },
  {
   "cell_type": "code",
   "execution_count": 32,
   "id": "21d7acff-9831-4234-9425-f264689c7a9d",
   "metadata": {},
   "outputs": [
    {
     "data": {
      "text/plain": [
       "array([[ 0,  1,  2,  3,  4,  5,  6,  7,  8,  9, 10, 11, 12, 13, 14, 15,\n",
       "        16, 17, 18, 19, 20, 21, 22, 23, 24, 25, 26, 27, 28, 29, 30, 31,\n",
       "        32],\n",
       "       [33, 34, 35, 36, 37, 38, 39, 40, 41, 42, 43, 44, 45, 46, 47, 48,\n",
       "        49, 50, 51, 52, 53, 54, 55, 56, 57, 58, 59, 60, 61, 62, 63, 64,\n",
       "        65],\n",
       "       [66, 67, 68, 69, 70, 71, 72, 73, 74, 75, 76, 77, 78, 79, 80, 81,\n",
       "        82, 83, 84, 85, 86, 87, 88, 89, 90, 91, 92, 93, 94, 95, 96, 97,\n",
       "        98]])"
      ]
     },
     "execution_count": 32,
     "metadata": {},
     "output_type": "execute_result"
    }
   ],
   "source": [
    "arr.reshape(3,33)"
   ]
  },
  {
   "cell_type": "raw",
   "id": "475e6ea5-58c7-49aa-bd59-1142fb88d5fd",
   "metadata": {},
   "source": [
    "arr"
   ]
  },
  {
   "cell_type": "code",
   "execution_count": 33,
   "id": "b7c5c242-adc3-4935-9798-a6ca435a130e",
   "metadata": {},
   "outputs": [],
   "source": [
    "arr = arr.ravel()   #Make 2D array into 1D array"
   ]
  },
  {
   "cell_type": "raw",
   "id": "f82e1fad-1336-49f5-921b-14ba903dfe34",
   "metadata": {},
   "source": [
    "arr1 = np.arange(50)"
   ]
  },
  {
   "cell_type": "raw",
   "id": "f7d7820d-f661-462c-b6a4-f8d677efbbc1",
   "metadata": {},
   "source": [
    "arr1"
   ]
  },
  {
   "cell_type": "code",
   "execution_count": null,
   "id": "c249c688-a933-486d-820d-cb983d72f699",
   "metadata": {},
   "outputs": [],
   "source": []
  }
 ],
 "metadata": {
  "kernelspec": {
   "display_name": "Python 3 (ipykernel)",
   "language": "python",
   "name": "python3"
  },
  "language_info": {
   "codemirror_mode": {
    "name": "ipython",
    "version": 3
   },
   "file_extension": ".py",
   "mimetype": "text/x-python",
   "name": "python",
   "nbconvert_exporter": "python",
   "pygments_lexer": "ipython3",
   "version": "3.13.1"
  }
 },
 "nbformat": 4,
 "nbformat_minor": 5
}
